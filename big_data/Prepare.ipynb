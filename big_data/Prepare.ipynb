{
 "cells": [
  {
   "cell_type": "markdown",
   "metadata": {},
   "source": [
    "## Part 1\n",
    "#### 1. Read the case.csv file from the 311 call data into a Spark DataFrame.\n",
    "#### 2. How old is the latest (in terms of days past SLA) currently open issue? How long has the oldest (in terms of days since opened) currently opened issue been open?\n",
    "#### 3. How many Stray Animal cases are there?\n",
    "#### 4. How many service requests that are assigned to the Field Operations department (dept_division) are not classified as \"Officer Standby\" request type (service_request_type)?\n",
    "#### 5. Create a new DataFrame without any information related to dates or location.\n",
    "#### 6. Read dept.csv into a Spark DataFrame. Inspect the dept_name column. Replace the missing values with \"other\"."
   ]
  },
  {
   "cell_type": "code",
   "execution_count": 1,
   "metadata": {},
   "outputs": [],
   "source": [
    "# set up environment for spark\n",
    "import pyspark\n",
    "import pandas as pd\n",
    "from pyspark.sql import SparkSession"
   ]
  },
  {
   "cell_type": "markdown",
   "metadata": {},
   "source": [
    "#### 1. Read the case.csv file from the 311 call data into a Spark DataFrame."
   ]
  },
  {
   "cell_type": "code",
   "execution_count": 2,
   "metadata": {},
   "outputs": [],
   "source": [
    "# start spark session\n",
    "spark = SparkSession.builder.getOrCreate()"
   ]
  },
  {
   "cell_type": "code",
   "execution_count": 3,
   "metadata": {},
   "outputs": [],
   "source": [
    "# read in the csv into spark dataframe\n",
    "df = (spark.read.csv('./sa311/case.csv', header=True, inferSchema=True))"
   ]
  },
  {
   "cell_type": "markdown",
   "metadata": {},
   "source": [
    "#### 2. How old is the latest (in terms of days past SLA) currently open issue? How long has the oldest (in terms of days since opened) currently opened issue been open?"
   ]
  },
  {
   "cell_type": "code",
   "execution_count": 4,
   "metadata": {},
   "outputs": [
    {
     "name": "stdout",
     "output_type": "stream",
     "text": [
      "root\n",
      " |-- case_id: integer (nullable = true)\n",
      " |-- case_opened_date: string (nullable = true)\n",
      " |-- case_closed_date: string (nullable = true)\n",
      " |-- SLA_due_date: string (nullable = true)\n",
      " |-- case_late: string (nullable = true)\n",
      " |-- num_days_late: double (nullable = true)\n",
      " |-- case_closed: string (nullable = true)\n",
      " |-- dept_division: string (nullable = true)\n",
      " |-- service_request_type: string (nullable = true)\n",
      " |-- SLA_days: double (nullable = true)\n",
      " |-- case_status: string (nullable = true)\n",
      " |-- source_id: string (nullable = true)\n",
      " |-- request_address: string (nullable = true)\n",
      " |-- council_district: integer (nullable = true)\n",
      "\n"
     ]
    }
   ],
   "source": [
    "# check out our schema\n",
    "df.printSchema()"
   ]
  },
  {
   "cell_type": "code",
   "execution_count": 5,
   "metadata": {},
   "outputs": [],
   "source": [
    "# import pyspark functions\n",
    "from pyspark.sql.functions import col, expr\n",
    "import pyspark.sql.functions as F"
   ]
  },
  {
   "cell_type": "code",
   "execution_count": 6,
   "metadata": {},
   "outputs": [
    {
     "name": "stdout",
     "output_type": "stream",
     "text": [
      "348.6 days past SLA\n"
     ]
    }
   ],
   "source": [
    "# 2. How old is the latest (in terms of days past SLA) currently open issue? \n",
    "print('{:.4} days past SLA'.format(df.select('case_closed', 'num_days_late', \n",
    "          F.to_timestamp(df.case_opened_date, 'M/d/y H:mm').alias('timestamp'))\\\n",
    ".select('num_days_late', 'timestamp', F.datediff(F.current_timestamp(), col('timestamp')).alias('days_old'))\\\n",
    ".where(df.case_closed == 'NO')\\\n",
    ".sort('num_days_late', ascending=False)\\\n",
    ".first()['num_days_late']))"
   ]
  },
  {
   "cell_type": "code",
   "execution_count": 7,
   "metadata": {},
   "outputs": [],
   "source": [
    "# How long has the oldest (in terms of days since opened) currently opened issue been open?"
   ]
  },
  {
   "cell_type": "code",
   "execution_count": 8,
   "metadata": {},
   "outputs": [
    {
     "name": "stdout",
     "output_type": "stream",
     "text": [
      "865 days since opened\n"
     ]
    }
   ],
   "source": [
    "print(str(df.select('case_closed', 'num_days_late', \n",
    "          F.to_timestamp(df.case_opened_date, 'M/d/y H:mm').alias('timestamp'))\\\n",
    ".select('num_days_late', 'timestamp', F.datediff(F.current_timestamp(), col('timestamp')).alias('days_old'))\\\n",
    ".where(df.case_closed == 'NO')\\\n",
    ".sort('days_old', ascending=False)\\\n",
    ".first()['days_old']) + ' days since opened')"
   ]
  },
  {
   "cell_type": "markdown",
   "metadata": {},
   "source": [
    "#### 3. How many Stray Animal cases are there?"
   ]
  },
  {
   "cell_type": "code",
   "execution_count": 9,
   "metadata": {},
   "outputs": [
    {
     "name": "stdout",
     "output_type": "stream",
     "text": [
      "26760 Stray Animal cases\n"
     ]
    }
   ],
   "source": [
    "print(str(df.select('service_request_type')\\\n",
    ".where(df.service_request_type == 'Stray Animal').count())+' Stray Animal cases')"
   ]
  },
  {
   "cell_type": "markdown",
   "metadata": {},
   "source": [
    "#### 4. How many service requests that are assigned to the Field Operations department (dept_division) are not classified as \"Officer Standby\" request type (service_request_type)?"
   ]
  },
  {
   "cell_type": "code",
   "execution_count": 10,
   "metadata": {},
   "outputs": [
    {
     "name": "stdout",
     "output_type": "stream",
     "text": [
      "113902 service requests assigned to Field Operations that are not Officer Standby Request Types\n"
     ]
    }
   ],
   "source": [
    "print(str(df\\\n",
    ".select('dept_division', 'service_request_type')\\\n",
    ".filter(df.service_request_type != 'Officer Standby')\\\n",
    ".where(df.dept_division == 'Field Operations').count())\\\n",
    "      + ' service requests assigned to Field Operations that are not Officer Standby Request Types')"
   ]
  },
  {
   "cell_type": "markdown",
   "metadata": {},
   "source": [
    "#### 5. Create a new DataFrame without any information related to dates or location."
   ]
  },
  {
   "cell_type": "code",
   "execution_count": 11,
   "metadata": {},
   "outputs": [],
   "source": [
    "df_no_dates_or_places = df.select('dept_division', 'service_request_type', 'case_status', 'source_id')"
   ]
  },
  {
   "cell_type": "code",
   "execution_count": 12,
   "metadata": {},
   "outputs": [
    {
     "name": "stdout",
     "output_type": "stream",
     "text": [
      "+----------------+--------------------+-----------+---------+\n",
      "|   dept_division|service_request_type|case_status|source_id|\n",
      "+----------------+--------------------+-----------+---------+\n",
      "|Field Operations|        Stray Animal|     Closed| svcCRMLS|\n",
      "|     Storm Water|Removal Of Obstru...|     Closed| svcCRMSS|\n",
      "|     Storm Water|Removal Of Obstru...|     Closed| svcCRMSS|\n",
      "|Code Enforcement|Front Or Side Yar...|     Closed| svcCRMSS|\n",
      "|Field Operations|Animal Cruelty(Cr...|     Closed| svcCRMSS|\n",
      "+----------------+--------------------+-----------+---------+\n",
      "only showing top 5 rows\n",
      "\n"
     ]
    }
   ],
   "source": [
    "df_no_dates_or_places.show(5)"
   ]
  },
  {
   "cell_type": "markdown",
   "metadata": {},
   "source": [
    "#### 6. Read dept.csv into a Spark DataFrame. Inspect the dept_name column. Replace the missing values with \"other\"."
   ]
  },
  {
   "cell_type": "code",
   "execution_count": 13,
   "metadata": {},
   "outputs": [],
   "source": [
    "df = (spark.read.csv('./sa311/dept.csv', header=True, inferSchema=True))"
   ]
  },
  {
   "cell_type": "code",
   "execution_count": 14,
   "metadata": {},
   "outputs": [],
   "source": [
    "df = df.na.fill({'dept_name': 'Other'})"
   ]
  },
  {
   "cell_type": "code",
   "execution_count": 15,
   "metadata": {},
   "outputs": [
    {
     "name": "stdout",
     "output_type": "stream",
     "text": [
      "+---------+\n",
      "|dept_name|\n",
      "+---------+\n",
      "|    Other|\n",
      "+---------+\n",
      "\n"
     ]
    }
   ],
   "source": [
    "df.select(df.dept_name).where((df.dept_name == 'Other')).show()"
   ]
  },
  {
   "cell_type": "markdown",
   "metadata": {},
   "source": [
    "### Part 2\n",
    "#### 1. Convert the council_district column to a string column.\n",
    "#### 2. Extract the year from the case_closed_date column.\n",
    "#### 3. Convert num_days_late from days to hours in new columns num_hours_late.\n",
    "#### 4. Convert the case_late column to a boolean column.\n",
    "#### 5. Convert the SLA_days columns to a double column. Pull it all together"
   ]
  },
  {
   "cell_type": "markdown",
   "metadata": {},
   "source": [
    "#### 1. Convert the council_district column to a string column."
   ]
  },
  {
   "cell_type": "code",
   "execution_count": 16,
   "metadata": {},
   "outputs": [
    {
     "name": "stdout",
     "output_type": "stream",
     "text": [
      "+----------------+----------------------+\n",
      "|council_district|council_district_fixed|\n",
      "+----------------+----------------------+\n",
      "|               5|            0000000005|\n",
      "|               3|            0000000003|\n",
      "|               3|            0000000003|\n",
      "|               3|            0000000003|\n",
      "|               7|            0000000007|\n",
      "+----------------+----------------------+\n",
      "only showing top 5 rows\n",
      "\n"
     ]
    }
   ],
   "source": [
    "df = (spark.read.csv('./sa311/case.csv', header=True, inferSchema=True))\n",
    "df.select(\"council_district\", F.format_string(\"%010d\", \"council_district\").\\\n",
    "          alias(\"council_district_fixed\")).show(5)"
   ]
  },
  {
   "cell_type": "markdown",
   "metadata": {},
   "source": [
    "#### 2. Extract the year from the case_closed_date column."
   ]
  },
  {
   "cell_type": "code",
   "execution_count": 17,
   "metadata": {},
   "outputs": [
    {
     "name": "stdout",
     "output_type": "stream",
     "text": [
      "+----------------+\n",
      "|case_closed_date|\n",
      "+----------------+\n",
      "|    1/1/18 12:29|\n",
      "+----------------+\n",
      "only showing top 1 row\n",
      "\n"
     ]
    }
   ],
   "source": [
    "df.select('case_closed_date').show(1)"
   ]
  },
  {
   "cell_type": "code",
   "execution_count": 18,
   "metadata": {},
   "outputs": [
    {
     "name": "stdout",
     "output_type": "stream",
     "text": [
      "+----+\n",
      "|year|\n",
      "+----+\n",
      "|  18|\n",
      "|  18|\n",
      "|  18|\n",
      "|  18|\n",
      "|  18|\n",
      "|  18|\n",
      "|  18|\n",
      "|  18|\n",
      "|  18|\n",
      "|  18|\n",
      "|  18|\n",
      "|  18|\n",
      "|  18|\n",
      "|  18|\n",
      "|  18|\n",
      "|  18|\n",
      "|  18|\n",
      "|  18|\n",
      "|  18|\n",
      "|  18|\n",
      "+----+\n",
      "only showing top 20 rows\n",
      "\n"
     ]
    }
   ],
   "source": [
    "year_re = r'^.+/.+/(.+)\\s+(.+)$'\n",
    "df.select(F.regexp_extract(df.case_closed_date, year_re, 1).alias('year')).show()\n"
   ]
  },
  {
   "cell_type": "markdown",
   "metadata": {},
   "source": [
    "#### 3. Convert num_days_late from days to hours in new columns num_hours_late."
   ]
  },
  {
   "cell_type": "code",
   "execution_count": 19,
   "metadata": {},
   "outputs": [
    {
     "name": "stdout",
     "output_type": "stream",
     "text": [
      "+-------------------+--------------+\n",
      "|      num_days_late|num_hours_late|\n",
      "+-------------------+--------------+\n",
      "| -998.5087616000001|     -23964.21|\n",
      "|-2.0126041669999997|         -48.3|\n",
      "|       -3.022337963|        -72.54|\n",
      "|       -15.01148148|       -360.28|\n",
      "|0.37216435200000003|          8.93|\n",
      "+-------------------+--------------+\n",
      "only showing top 5 rows\n",
      "\n"
     ]
    }
   ],
   "source": [
    "df.select(\"num_days_late\", F.round(df.num_days_late * 24.00, 2).alias(\"num_hours_late\")) \\\n",
    "  .show(5)"
   ]
  },
  {
   "cell_type": "markdown",
   "metadata": {},
   "source": [
    "#### 4. Convert the case_late column to a boolean column."
   ]
  },
  {
   "cell_type": "code",
   "execution_count": 20,
   "metadata": {},
   "outputs": [
    {
     "name": "stdout",
     "output_type": "stream",
     "text": [
      "+-----------------+\n",
      "|(case_late = YES)|\n",
      "+-----------------+\n",
      "|            false|\n",
      "|            false|\n",
      "|            false|\n",
      "|            false|\n",
      "|             true|\n",
      "|            false|\n",
      "|            false|\n",
      "|            false|\n",
      "|            false|\n",
      "|            false|\n",
      "+-----------------+\n",
      "only showing top 10 rows\n",
      "\n"
     ]
    }
   ],
   "source": [
    "df.select(df.case_late == 'YES').show(10)"
   ]
  },
  {
   "cell_type": "markdown",
   "metadata": {},
   "source": [
    "#### 5. Convert the SLA_days columns to a double column. Pull it all together"
   ]
  },
  {
   "cell_type": "code",
   "execution_count": 21,
   "metadata": {
    "scrolled": true
   },
   "outputs": [
    {
     "name": "stdout",
     "output_type": "stream",
     "text": [
      "+---------------+\n",
      "|ROUND(SLA_days)|\n",
      "+---------------+\n",
      "|          999.0|\n",
      "|            4.0|\n",
      "|            4.0|\n",
      "|           16.0|\n",
      "|            0.0|\n",
      "+---------------+\n",
      "only showing top 5 rows\n",
      "\n"
     ]
    }
   ],
   "source": [
    "df.select(F.rint(df.SLA_days)).show(5)"
   ]
  },
  {
   "cell_type": "markdown",
   "metadata": {},
   "source": [
    "## Part 3\n",
    "#### 1. Create a DataFrame with all combinations of council_district and service_request_type (regardless of whether the combination is observed in the data).\n",
    "#### 2. Join the case data with the source and department data.\n",
    "#### 3. Are there any cases that do not have a request source?"
   ]
  },
  {
   "cell_type": "markdown",
   "metadata": {},
   "source": [
    "#### 1. Create a DataFrame with all combinations of council_district and service_request_type (regardless of whether the combination is observed in the data)."
   ]
  },
  {
   "cell_type": "code",
   "execution_count": 59,
   "metadata": {},
   "outputs": [
    {
     "data": {
      "text/plain": [
       "<bound method DataFrame.printSchema of DataFrame[case_id: int, case_opened_date: string, case_closed_date: string, SLA_due_date: string, case_late: string, num_days_late: double, case_closed: string, dept_division: string, service_request_type: string, SLA_days: double, case_status: string, source_id: string, request_address: string, council_district: int, source_id: string, source_username: string, dept_division: string, dept_name: string, standardized_dept_name: string, dept_subject_to_SLA: string]>"
      ]
     },
     "execution_count": 59,
     "metadata": {},
     "output_type": "execute_result"
    }
   ],
   "source": [
    "df.printSchema"
   ]
  },
  {
   "cell_type": "code",
   "execution_count": 27,
   "metadata": {},
   "outputs": [
    {
     "name": "stdout",
     "output_type": "stream",
     "text": [
      "+----------------+--------------------+\n",
      "|council_district|service_request_type|\n",
      "+----------------+--------------------+\n",
      "|               5|        Stray Animal|\n",
      "|               3|        Stray Animal|\n",
      "|               3|        Stray Animal|\n",
      "|               3|        Stray Animal|\n",
      "|               7|        Stray Animal|\n",
      "+----------------+--------------------+\n",
      "only showing top 5 rows\n",
      "\n"
     ]
    }
   ],
   "source": [
    "df1 = df.select('council_district')\n",
    "df2 = df.select('service_request_type')\n",
    "df1.crossJoin(df2).show(5)"
   ]
  },
  {
   "cell_type": "code",
   "execution_count": null,
   "metadata": {},
   "outputs": [],
   "source": []
  },
  {
   "cell_type": "markdown",
   "metadata": {},
   "source": [
    "#### 2. Join the case data with the source and department data."
   ]
  },
  {
   "cell_type": "code",
   "execution_count": 82,
   "metadata": {},
   "outputs": [],
   "source": [
    "df_cases = spark.read.csv('./sa311/case.csv', header=True, inferSchema=True)\n",
    "df_source = spark.read.csv('./sa311/source.csv', header=True, inferSchema=True)\n",
    "df_dept = spark.read.csv('./sa311/dept.csv', header=True, inferSchema=True)"
   ]
  },
  {
   "cell_type": "code",
   "execution_count": 83,
   "metadata": {},
   "outputs": [
    {
     "name": "stdout",
     "output_type": "stream",
     "text": [
      "root\n",
      " |-- case_id: integer (nullable = true)\n",
      " |-- case_opened_date: string (nullable = true)\n",
      " |-- case_closed_date: string (nullable = true)\n",
      " |-- SLA_due_date: string (nullable = true)\n",
      " |-- case_late: string (nullable = true)\n",
      " |-- num_days_late: double (nullable = true)\n",
      " |-- case_closed: string (nullable = true)\n",
      " |-- dept_division: string (nullable = true)\n",
      " |-- service_request_type: string (nullable = true)\n",
      " |-- SLA_days: double (nullable = true)\n",
      " |-- case_status: string (nullable = true)\n",
      " |-- source_id: string (nullable = true)\n",
      " |-- request_address: string (nullable = true)\n",
      " |-- council_district: integer (nullable = true)\n",
      "\n"
     ]
    }
   ],
   "source": [
    "df_cases.printSchema()"
   ]
  },
  {
   "cell_type": "code",
   "execution_count": 84,
   "metadata": {},
   "outputs": [
    {
     "name": "stdout",
     "output_type": "stream",
     "text": [
      "root\n",
      " |-- source_id: string (nullable = true)\n",
      " |-- source_username: string (nullable = true)\n",
      "\n"
     ]
    }
   ],
   "source": [
    "df_source.printSchema()"
   ]
  },
  {
   "cell_type": "code",
   "execution_count": 85,
   "metadata": {},
   "outputs": [
    {
     "name": "stdout",
     "output_type": "stream",
     "text": [
      "root\n",
      " |-- dept_division: string (nullable = true)\n",
      " |-- dept_name: string (nullable = true)\n",
      " |-- standardized_dept_name: string (nullable = true)\n",
      " |-- dept_subject_to_SLA: string (nullable = true)\n",
      "\n"
     ]
    }
   ],
   "source": [
    "df_dept.printSchema()"
   ]
  },
  {
   "cell_type": "code",
   "execution_count": 86,
   "metadata": {},
   "outputs": [],
   "source": [
    "df = df_cases.join(df_dept, df_cases.dept_division == df_dept.dept_division, 'left')"
   ]
  },
  {
   "cell_type": "code",
   "execution_count": 87,
   "metadata": {},
   "outputs": [],
   "source": [
    "df = df.join(df_source, df.source_id == df_source.source_id, \"left\")"
   ]
  },
  {
   "cell_type": "code",
   "execution_count": null,
   "metadata": {},
   "outputs": [],
   "source": []
  },
  {
   "cell_type": "code",
   "execution_count": 88,
   "metadata": {},
   "outputs": [
    {
     "data": {
      "text/html": [
       "<div>\n",
       "<style scoped>\n",
       "    .dataframe tbody tr th:only-of-type {\n",
       "        vertical-align: middle;\n",
       "    }\n",
       "\n",
       "    .dataframe tbody tr th {\n",
       "        vertical-align: top;\n",
       "    }\n",
       "\n",
       "    .dataframe thead th {\n",
       "        text-align: right;\n",
       "    }\n",
       "</style>\n",
       "<table border=\"1\" class=\"dataframe\">\n",
       "  <thead>\n",
       "    <tr style=\"text-align: right;\">\n",
       "      <th></th>\n",
       "      <th>case_id</th>\n",
       "      <th>case_opened_date</th>\n",
       "      <th>case_closed_date</th>\n",
       "      <th>SLA_due_date</th>\n",
       "      <th>case_late</th>\n",
       "      <th>num_days_late</th>\n",
       "      <th>case_closed</th>\n",
       "      <th>dept_division</th>\n",
       "      <th>service_request_type</th>\n",
       "      <th>SLA_days</th>\n",
       "      <th>case_status</th>\n",
       "      <th>source_id</th>\n",
       "      <th>request_address</th>\n",
       "      <th>council_district</th>\n",
       "      <th>dept_division</th>\n",
       "      <th>dept_name</th>\n",
       "      <th>standardized_dept_name</th>\n",
       "      <th>dept_subject_to_SLA</th>\n",
       "      <th>source_id</th>\n",
       "      <th>source_username</th>\n",
       "    </tr>\n",
       "  </thead>\n",
       "  <tbody>\n",
       "    <tr>\n",
       "      <th>0</th>\n",
       "      <td>1014127332</td>\n",
       "      <td>1/1/18 0:42</td>\n",
       "      <td>1/1/18 12:29</td>\n",
       "      <td>9/26/20 0:42</td>\n",
       "      <td>NO</td>\n",
       "      <td>-998.508762</td>\n",
       "      <td>YES</td>\n",
       "      <td>Field Operations</td>\n",
       "      <td>Stray Animal</td>\n",
       "      <td>999.000000</td>\n",
       "      <td>Closed</td>\n",
       "      <td>svcCRMLS</td>\n",
       "      <td>2315  EL PASO ST, San Antonio, 78207</td>\n",
       "      <td>5</td>\n",
       "      <td>Field Operations</td>\n",
       "      <td>Animal Care Services</td>\n",
       "      <td>Animal Care Services</td>\n",
       "      <td>YES</td>\n",
       "      <td>svcCRMLS</td>\n",
       "      <td>svcCRMLS</td>\n",
       "    </tr>\n",
       "    <tr>\n",
       "      <th>1</th>\n",
       "      <td>1014127333</td>\n",
       "      <td>1/1/18 0:46</td>\n",
       "      <td>1/3/18 8:11</td>\n",
       "      <td>1/5/18 8:30</td>\n",
       "      <td>NO</td>\n",
       "      <td>-2.012604</td>\n",
       "      <td>YES</td>\n",
       "      <td>Storm Water</td>\n",
       "      <td>Removal Of Obstruction</td>\n",
       "      <td>4.322222</td>\n",
       "      <td>Closed</td>\n",
       "      <td>svcCRMSS</td>\n",
       "      <td>2215  GOLIAD RD, San Antonio, 78223</td>\n",
       "      <td>3</td>\n",
       "      <td>Storm Water</td>\n",
       "      <td>Trans &amp; Cap Improvements</td>\n",
       "      <td>Trans &amp; Cap Improvements</td>\n",
       "      <td>YES</td>\n",
       "      <td>svcCRMSS</td>\n",
       "      <td>svcCRMSS</td>\n",
       "    </tr>\n",
       "    <tr>\n",
       "      <th>2</th>\n",
       "      <td>1014127334</td>\n",
       "      <td>1/1/18 0:48</td>\n",
       "      <td>1/2/18 7:57</td>\n",
       "      <td>1/5/18 8:30</td>\n",
       "      <td>NO</td>\n",
       "      <td>-3.022338</td>\n",
       "      <td>YES</td>\n",
       "      <td>Storm Water</td>\n",
       "      <td>Removal Of Obstruction</td>\n",
       "      <td>4.320729</td>\n",
       "      <td>Closed</td>\n",
       "      <td>svcCRMSS</td>\n",
       "      <td>102  PALFREY ST W, San Antonio, 78223</td>\n",
       "      <td>3</td>\n",
       "      <td>Storm Water</td>\n",
       "      <td>Trans &amp; Cap Improvements</td>\n",
       "      <td>Trans &amp; Cap Improvements</td>\n",
       "      <td>YES</td>\n",
       "      <td>svcCRMSS</td>\n",
       "      <td>svcCRMSS</td>\n",
       "    </tr>\n",
       "    <tr>\n",
       "      <th>3</th>\n",
       "      <td>1014127335</td>\n",
       "      <td>1/1/18 1:29</td>\n",
       "      <td>1/2/18 8:13</td>\n",
       "      <td>1/17/18 8:30</td>\n",
       "      <td>NO</td>\n",
       "      <td>-15.011481</td>\n",
       "      <td>YES</td>\n",
       "      <td>Code Enforcement</td>\n",
       "      <td>Front Or Side Yard Parking</td>\n",
       "      <td>16.291887</td>\n",
       "      <td>Closed</td>\n",
       "      <td>svcCRMSS</td>\n",
       "      <td>114  LA GARDE ST, San Antonio, 78223</td>\n",
       "      <td>3</td>\n",
       "      <td>Code Enforcement</td>\n",
       "      <td>Code Enforcement Services</td>\n",
       "      <td>DSD/Code Enforcement</td>\n",
       "      <td>YES</td>\n",
       "      <td>svcCRMSS</td>\n",
       "      <td>svcCRMSS</td>\n",
       "    </tr>\n",
       "    <tr>\n",
       "      <th>4</th>\n",
       "      <td>1014127336</td>\n",
       "      <td>1/1/18 1:34</td>\n",
       "      <td>1/1/18 13:29</td>\n",
       "      <td>1/1/18 4:34</td>\n",
       "      <td>YES</td>\n",
       "      <td>0.372164</td>\n",
       "      <td>YES</td>\n",
       "      <td>Field Operations</td>\n",
       "      <td>Animal Cruelty(Critical)</td>\n",
       "      <td>0.125000</td>\n",
       "      <td>Closed</td>\n",
       "      <td>svcCRMSS</td>\n",
       "      <td>734  CLEARVIEW DR, San Antonio, 78228</td>\n",
       "      <td>7</td>\n",
       "      <td>Field Operations</td>\n",
       "      <td>Animal Care Services</td>\n",
       "      <td>Animal Care Services</td>\n",
       "      <td>YES</td>\n",
       "      <td>svcCRMSS</td>\n",
       "      <td>svcCRMSS</td>\n",
       "    </tr>\n",
       "  </tbody>\n",
       "</table>\n",
       "</div>"
      ],
      "text/plain": [
       "      case_id case_opened_date case_closed_date  SLA_due_date case_late  \\\n",
       "0  1014127332      1/1/18 0:42     1/1/18 12:29  9/26/20 0:42        NO   \n",
       "1  1014127333      1/1/18 0:46      1/3/18 8:11   1/5/18 8:30        NO   \n",
       "2  1014127334      1/1/18 0:48      1/2/18 7:57   1/5/18 8:30        NO   \n",
       "3  1014127335      1/1/18 1:29      1/2/18 8:13  1/17/18 8:30        NO   \n",
       "4  1014127336      1/1/18 1:34     1/1/18 13:29   1/1/18 4:34       YES   \n",
       "\n",
       "   num_days_late case_closed     dept_division        service_request_type  \\\n",
       "0    -998.508762         YES  Field Operations                Stray Animal   \n",
       "1      -2.012604         YES       Storm Water      Removal Of Obstruction   \n",
       "2      -3.022338         YES       Storm Water      Removal Of Obstruction   \n",
       "3     -15.011481         YES  Code Enforcement  Front Or Side Yard Parking   \n",
       "4       0.372164         YES  Field Operations    Animal Cruelty(Critical)   \n",
       "\n",
       "     SLA_days case_status source_id                        request_address  \\\n",
       "0  999.000000      Closed  svcCRMLS   2315  EL PASO ST, San Antonio, 78207   \n",
       "1    4.322222      Closed  svcCRMSS    2215  GOLIAD RD, San Antonio, 78223   \n",
       "2    4.320729      Closed  svcCRMSS  102  PALFREY ST W, San Antonio, 78223   \n",
       "3   16.291887      Closed  svcCRMSS   114  LA GARDE ST, San Antonio, 78223   \n",
       "4    0.125000      Closed  svcCRMSS  734  CLEARVIEW DR, San Antonio, 78228   \n",
       "\n",
       "   council_district     dept_division                  dept_name  \\\n",
       "0                 5  Field Operations       Animal Care Services   \n",
       "1                 3       Storm Water   Trans & Cap Improvements   \n",
       "2                 3       Storm Water   Trans & Cap Improvements   \n",
       "3                 3  Code Enforcement  Code Enforcement Services   \n",
       "4                 7  Field Operations       Animal Care Services   \n",
       "\n",
       "     standardized_dept_name dept_subject_to_SLA source_id source_username  \n",
       "0      Animal Care Services                 YES  svcCRMLS        svcCRMLS  \n",
       "1  Trans & Cap Improvements                 YES  svcCRMSS        svcCRMSS  \n",
       "2  Trans & Cap Improvements                 YES  svcCRMSS        svcCRMSS  \n",
       "3      DSD/Code Enforcement                 YES  svcCRMSS        svcCRMSS  \n",
       "4      Animal Care Services                 YES  svcCRMSS        svcCRMSS  "
      ]
     },
     "execution_count": 88,
     "metadata": {},
     "output_type": "execute_result"
    }
   ],
   "source": [
    "df.limit(10).toPandas().head()"
   ]
  },
  {
   "cell_type": "markdown",
   "metadata": {},
   "source": [
    "#### 3. Are there any cases that do not have a request source?"
   ]
  },
  {
   "cell_type": "code",
   "execution_count": 67,
   "metadata": {},
   "outputs": [],
   "source": [
    "first_inst = df_cases.join(df_source, df_cases.source_id == df_source.source_id, \"left_anti\").first()"
   ]
  },
  {
   "cell_type": "code",
   "execution_count": 68,
   "metadata": {},
   "outputs": [
    {
     "name": "stdout",
     "output_type": "stream",
     "text": [
      "No instances of cases without a request source!\n"
     ]
    }
   ],
   "source": [
    "if first_inst:\n",
    "    print('There is at least one case without a request source')\n",
    "else:\n",
    "    print('No instances of cases without a request source!')"
   ]
  },
  {
   "cell_type": "markdown",
   "metadata": {},
   "source": [
    "## Part 4\n",
    "#### 1. Who are the top 10 service request types in terms of number of requests?\n",
    "#### 2. Who are the top 10 service request types in terms of average days late?\n",
    "#### 3. Does number of days late depend on department?\n",
    "#### 4. How do number of days late depend on department division and request type?"
   ]
  },
  {
   "cell_type": "markdown",
   "metadata": {},
   "source": [
    "#### 1. Who are the top 10 service request types in terms of number of requests?"
   ]
  },
  {
   "cell_type": "code",
   "execution_count": null,
   "metadata": {},
   "outputs": [],
   "source": []
  },
  {
   "cell_type": "code",
   "execution_count": 69,
   "metadata": {},
   "outputs": [
    {
     "name": "stdout",
     "output_type": "stream",
     "text": [
      "+--------------------+--------+\n",
      "|service_request_type|count(1)|\n",
      "+--------------------+--------+\n",
      "|           No Pickup|   89210|\n",
      "|Overgrown Yard/Trash|   66403|\n",
      "|        Bandit Signs|   32968|\n",
      "|        Damaged Cart|   31163|\n",
      "|Front Or Side Yar...|   28920|\n",
      "|        Stray Animal|   27361|\n",
      "|Aggressive Animal...|   25492|\n",
      "|Cart Exchange Req...|   22608|\n",
      "|Junk Vehicle On P...|   21649|\n",
      "|     Pot Hole Repair|   20827|\n",
      "+--------------------+--------+\n",
      "only showing top 10 rows\n",
      "\n"
     ]
    }
   ],
   "source": [
    "df_srt_count = df.groupBy('service_request_type').agg(F.count('*'))\n",
    "df_srt_count.sort('count(1)', ascending=False).show(10)"
   ]
  },
  {
   "cell_type": "code",
   "execution_count": 70,
   "metadata": {},
   "outputs": [
    {
     "data": {
      "text/html": [
       "<div>\n",
       "<style scoped>\n",
       "    .dataframe tbody tr th:only-of-type {\n",
       "        vertical-align: middle;\n",
       "    }\n",
       "\n",
       "    .dataframe tbody tr th {\n",
       "        vertical-align: top;\n",
       "    }\n",
       "\n",
       "    .dataframe thead th {\n",
       "        text-align: right;\n",
       "    }\n",
       "</style>\n",
       "<table border=\"1\" class=\"dataframe\">\n",
       "  <thead>\n",
       "    <tr style=\"text-align: right;\">\n",
       "      <th></th>\n",
       "      <th>service_request_type_dept_name</th>\n",
       "      <th>Animal Care Services</th>\n",
       "      <th>City Council</th>\n",
       "      <th>Code Enforcement Services</th>\n",
       "      <th>Customer Service</th>\n",
       "      <th>Development Services</th>\n",
       "      <th>Metro Health</th>\n",
       "      <th>Parks and Recreation</th>\n",
       "      <th>Solid Waste Management</th>\n",
       "      <th>Trans &amp; Cap Improvements</th>\n",
       "      <th>null</th>\n",
       "    </tr>\n",
       "  </thead>\n",
       "  <tbody>\n",
       "    <tr>\n",
       "      <th>0</th>\n",
       "      <td>Masonry</td>\n",
       "      <td>0</td>\n",
       "      <td>0</td>\n",
       "      <td>0</td>\n",
       "      <td>0</td>\n",
       "      <td>0</td>\n",
       "      <td>0</td>\n",
       "      <td>447</td>\n",
       "      <td>0</td>\n",
       "      <td>0</td>\n",
       "      <td>0</td>\n",
       "    </tr>\n",
       "    <tr>\n",
       "      <th>1</th>\n",
       "      <td>Guard Rail/Guard Post Damage</td>\n",
       "      <td>0</td>\n",
       "      <td>0</td>\n",
       "      <td>0</td>\n",
       "      <td>0</td>\n",
       "      <td>0</td>\n",
       "      <td>0</td>\n",
       "      <td>0</td>\n",
       "      <td>0</td>\n",
       "      <td>817</td>\n",
       "      <td>0</td>\n",
       "    </tr>\n",
       "    <tr>\n",
       "      <th>2</th>\n",
       "      <td>Multi Tenant Exterior</td>\n",
       "      <td>0</td>\n",
       "      <td>0</td>\n",
       "      <td>84</td>\n",
       "      <td>0</td>\n",
       "      <td>0</td>\n",
       "      <td>0</td>\n",
       "      <td>0</td>\n",
       "      <td>0</td>\n",
       "      <td>0</td>\n",
       "      <td>0</td>\n",
       "    </tr>\n",
       "    <tr>\n",
       "      <th>3</th>\n",
       "      <td>CPS Energy Metal Poles</td>\n",
       "      <td>0</td>\n",
       "      <td>0</td>\n",
       "      <td>893</td>\n",
       "      <td>0</td>\n",
       "      <td>0</td>\n",
       "      <td>0</td>\n",
       "      <td>0</td>\n",
       "      <td>0</td>\n",
       "      <td>0</td>\n",
       "      <td>0</td>\n",
       "    </tr>\n",
       "    <tr>\n",
       "      <th>4</th>\n",
       "      <td>Graffiti Public Property</td>\n",
       "      <td>0</td>\n",
       "      <td>0</td>\n",
       "      <td>4104</td>\n",
       "      <td>0</td>\n",
       "      <td>0</td>\n",
       "      <td>0</td>\n",
       "      <td>0</td>\n",
       "      <td>0</td>\n",
       "      <td>0</td>\n",
       "      <td>0</td>\n",
       "    </tr>\n",
       "    <tr>\n",
       "      <th>5</th>\n",
       "      <td>Dead End/No Outlet Sign Request</td>\n",
       "      <td>0</td>\n",
       "      <td>0</td>\n",
       "      <td>0</td>\n",
       "      <td>0</td>\n",
       "      <td>0</td>\n",
       "      <td>0</td>\n",
       "      <td>0</td>\n",
       "      <td>0</td>\n",
       "      <td>155</td>\n",
       "      <td>0</td>\n",
       "    </tr>\n",
       "    <tr>\n",
       "      <th>6</th>\n",
       "      <td>\"Vacant Lot-Private (12\"\")\"</td>\n",
       "      <td>0</td>\n",
       "      <td>0</td>\n",
       "      <td>7875</td>\n",
       "      <td>0</td>\n",
       "      <td>0</td>\n",
       "      <td>0</td>\n",
       "      <td>0</td>\n",
       "      <td>0</td>\n",
       "      <td>0</td>\n",
       "      <td>0</td>\n",
       "    </tr>\n",
       "    <tr>\n",
       "      <th>7</th>\n",
       "      <td>\"Vacant Lot-State (48\"\")\"</td>\n",
       "      <td>0</td>\n",
       "      <td>0</td>\n",
       "      <td>15</td>\n",
       "      <td>0</td>\n",
       "      <td>0</td>\n",
       "      <td>0</td>\n",
       "      <td>0</td>\n",
       "      <td>0</td>\n",
       "      <td>0</td>\n",
       "      <td>0</td>\n",
       "    </tr>\n",
       "    <tr>\n",
       "      <th>8</th>\n",
       "      <td>3rd Call Bagged Leaves with Fee</td>\n",
       "      <td>0</td>\n",
       "      <td>0</td>\n",
       "      <td>0</td>\n",
       "      <td>0</td>\n",
       "      <td>0</td>\n",
       "      <td>0</td>\n",
       "      <td>0</td>\n",
       "      <td>24</td>\n",
       "      <td>0</td>\n",
       "      <td>0</td>\n",
       "    </tr>\n",
       "    <tr>\n",
       "      <th>9</th>\n",
       "      <td>Food Contact Surfaces</td>\n",
       "      <td>0</td>\n",
       "      <td>0</td>\n",
       "      <td>0</td>\n",
       "      <td>0</td>\n",
       "      <td>0</td>\n",
       "      <td>606</td>\n",
       "      <td>0</td>\n",
       "      <td>0</td>\n",
       "      <td>0</td>\n",
       "      <td>0</td>\n",
       "    </tr>\n",
       "  </tbody>\n",
       "</table>\n",
       "</div>"
      ],
      "text/plain": [
       "    service_request_type_dept_name  Animal Care Services  City Council  \\\n",
       "0                          Masonry                     0             0   \n",
       "1     Guard Rail/Guard Post Damage                     0             0   \n",
       "2            Multi Tenant Exterior                     0             0   \n",
       "3           CPS Energy Metal Poles                     0             0   \n",
       "4         Graffiti Public Property                     0             0   \n",
       "5  Dead End/No Outlet Sign Request                     0             0   \n",
       "6      \"Vacant Lot-Private (12\"\")\"                     0             0   \n",
       "7        \"Vacant Lot-State (48\"\")\"                     0             0   \n",
       "8  3rd Call Bagged Leaves with Fee                     0             0   \n",
       "9            Food Contact Surfaces                     0             0   \n",
       "\n",
       "   Code Enforcement Services  Customer Service  Development Services  \\\n",
       "0                          0                 0                     0   \n",
       "1                          0                 0                     0   \n",
       "2                         84                 0                     0   \n",
       "3                        893                 0                     0   \n",
       "4                       4104                 0                     0   \n",
       "5                          0                 0                     0   \n",
       "6                       7875                 0                     0   \n",
       "7                         15                 0                     0   \n",
       "8                          0                 0                     0   \n",
       "9                          0                 0                     0   \n",
       "\n",
       "   Metro Health  Parks and Recreation  Solid Waste Management  \\\n",
       "0             0                   447                       0   \n",
       "1             0                     0                       0   \n",
       "2             0                     0                       0   \n",
       "3             0                     0                       0   \n",
       "4             0                     0                       0   \n",
       "5             0                     0                       0   \n",
       "6             0                     0                       0   \n",
       "7             0                     0                       0   \n",
       "8             0                     0                      24   \n",
       "9           606                     0                       0   \n",
       "\n",
       "   Trans & Cap Improvements  null  \n",
       "0                         0     0  \n",
       "1                       817     0  \n",
       "2                         0     0  \n",
       "3                         0     0  \n",
       "4                         0     0  \n",
       "5                       155     0  \n",
       "6                         0     0  \n",
       "7                         0     0  \n",
       "8                         0     0  \n",
       "9                         0     0  "
      ]
     },
     "execution_count": 70,
     "metadata": {},
     "output_type": "execute_result"
    }
   ],
   "source": [
    "df.crosstab(\"service_request_type\", \"dept_name\").limit(10).toPandas()"
   ]
  },
  {
   "cell_type": "code",
   "execution_count": 71,
   "metadata": {},
   "outputs": [],
   "source": [
    "from pyspark.sql.types import DoubleType\n",
    "\n",
    "df = df.withColumn(\"num_days_late\", df[\"num_days_late\"].cast(DoubleType()))\\\n",
    "        .withColumn(\"SLA_days\", df[\"SLA_days\"].cast(DoubleType()))\\\n",
    "        .withColumn('dept_lower', F.lower(F.col('dept_name')))"
   ]
  },
  {
   "cell_type": "markdown",
   "metadata": {},
   "source": [
    "#### 2. Who are the top 10 service request types in terms of average days late?"
   ]
  },
  {
   "cell_type": "code",
   "execution_count": 72,
   "metadata": {},
   "outputs": [
    {
     "name": "stdout",
     "output_type": "stream",
     "text": [
      "root\n",
      " |-- service_request_type: string (nullable = true)\n",
      " |-- avg(num_days_late): double (nullable = true)\n",
      "\n",
      "+--------------------+------------------+\n",
      "|service_request_type|avg(num_days_late)|\n",
      "+--------------------+------------------+\n",
      "|  Zoning: Junk Yards| 175.9563621042095|\n",
      "|Labeling for Used...|162.43032902285717|\n",
      "|Record Keeping of...|153.99724039428568|\n",
      "|Signage Requied f...|151.63868055333333|\n",
      "|Storage of Used M...|     142.112556415|\n",
      "|Zoning: Recycle Yard|135.92851612479797|\n",
      "|Donation Containe...|131.75610506358706|\n",
      "|License Requied U...|128.79828704142858|\n",
      "|Traffic Signal Gr...|101.79846062200002|\n",
      "|           Complaint| 72.87050230311695|\n",
      "+--------------------+------------------+\n",
      "only showing top 10 rows\n",
      "\n"
     ]
    }
   ],
   "source": [
    "df_srt_mdl = df.groupBy('service_request_type').agg(F.mean('num_days_late'))\n",
    "df_srt_mdl.printSchema()\n",
    "df_srt_mdl.sort('avg(num_days_late)', ascending=False).show(10)"
   ]
  },
  {
   "cell_type": "markdown",
   "metadata": {},
   "source": [
    "#### 3. Does number of days late depend on department?"
   ]
  },
  {
   "cell_type": "code",
   "execution_count": 73,
   "metadata": {},
   "outputs": [
    {
     "name": "stdout",
     "output_type": "stream",
     "text": [
      "root\n",
      " |-- dept_lower: string (nullable = true)\n",
      " |-- avg(num_days_late): double (nullable = true)\n",
      "\n",
      "+--------------------+-------------------+\n",
      "|          dept_lower| avg(num_days_late)|\n",
      "+--------------------+-------------------+\n",
      "|                null| 135.92851612479797|\n",
      "|    customer service| 59.737091496300785|\n",
      "|development services|  13.43372455586971|\n",
      "|solid waste manag...|-2.2000575136721747|\n",
      "|        metro health| -4.911766979607002|\n",
      "|parks and recreation| -5.251521960055133|\n",
      "|trans & cap impro...|-20.612837354052626|\n",
      "|code enforcement ...|-38.701330683295375|\n",
      "|animal care services|-226.51783940550382|\n",
      "|        city council|               null|\n",
      "+--------------------+-------------------+\n",
      "\n"
     ]
    }
   ],
   "source": [
    "df_srt_mdl = df.groupBy('dept_lower').agg(F.mean('num_days_late'))\n",
    "df_srt_mdl.printSchema()\n",
    "df_srt_mdl.sort('avg(num_days_late)', ascending=False).show(20)"
   ]
  },
  {
   "cell_type": "markdown",
   "metadata": {},
   "source": [
    "#### 4. How do number of days late depend on department division and request type?"
   ]
  },
  {
   "cell_type": "code",
   "execution_count": 51,
   "metadata": {},
   "outputs": [
    {
     "name": "stdout",
     "output_type": "stream",
     "text": [
      "root\n",
      " |-- case_id: integer (nullable = true)\n",
      " |-- case_opened_date: string (nullable = true)\n",
      " |-- case_closed_date: string (nullable = true)\n",
      " |-- SLA_due_date: string (nullable = true)\n",
      " |-- case_late: string (nullable = true)\n",
      " |-- num_days_late: double (nullable = true)\n",
      " |-- case_closed: string (nullable = true)\n",
      " |-- dept_division: string (nullable = true)\n",
      " |-- service_request_type: string (nullable = true)\n",
      " |-- SLA_days: double (nullable = true)\n",
      " |-- case_status: string (nullable = true)\n",
      " |-- source_id: string (nullable = true)\n",
      " |-- request_address: string (nullable = true)\n",
      " |-- council_district: integer (nullable = true)\n",
      " |-- source_id: string (nullable = true)\n",
      " |-- source_username: string (nullable = true)\n",
      " |-- dept_division: string (nullable = true)\n",
      " |-- dept_name: string (nullable = true)\n",
      " |-- standardized_dept_name: string (nullable = true)\n",
      " |-- dept_subject_to_SLA: string (nullable = true)\n",
      "\n"
     ]
    }
   ],
   "source": [
    "df.printSchema()"
   ]
  },
  {
   "cell_type": "code",
   "execution_count": 92,
   "metadata": {},
   "outputs": [],
   "source": [
    "df = df_dept.join(df_cases, on='dept_division')"
   ]
  },
  {
   "cell_type": "code",
   "execution_count": 105,
   "metadata": {},
   "outputs": [
    {
     "name": "stdout",
     "output_type": "stream",
     "text": [
      "+--------------------+--------------------+------------------+\n",
      "|       dept_division|service_request_type|avg(num_days_late)|\n",
      "+--------------------+--------------------+------------------+\n",
      "|    Code Enforcement|  Zoning: Junk Yards| 175.9563621042095|\n",
      "|Code Enforcement ...|Labeling for Used...|162.43032902285717|\n",
      "|Code Enforcement ...|Record Keeping of...|153.99724039428568|\n",
      "|Code Enforcement ...|Signage Requied f...|151.63868055333333|\n",
      "|Code Enforcement ...|Storage of Used M...|     142.112556415|\n",
      "|Code Enforcement ...|Zoning: Recycle Yard|135.92851612479797|\n",
      "|    Code Enforcement|Donation Containe...|131.75610506358706|\n",
      "|Code Enforcement ...|License Requied U...|128.79828704142858|\n",
      "|Code Enforcement ...|Used Mattress Ins...| 92.93570056835293|\n",
      "|Code Enforcement ...|        Bandit Signs| 87.61764120320001|\n",
      "|             Signals|Traffic Signal Gr...| 77.90021217000002|\n",
      "|     311 Call Center|           Complaint| 72.51790932659713|\n",
      "|    Code Enforcement|             Vendors| 66.11831254322686|\n",
      "|        Reservations|Reservation Assis...|       66.03116319|\n",
      "|    Waste Collection|Contracted Servic...|     62.2454525543|\n",
      "|    Code Enforcement|         Curbstoning|60.604338577986674|\n",
      "|    Code Enforcement|   No Address Posted|59.875640733625936|\n",
      "|Director's Office...|Status: On-Going ...| 36.87389387687184|\n",
      "|Code Enforcement ...|Historical Buildi...|31.567148565454545|\n",
      "|    Waste Collection| Service Information| 29.27081170588125|\n",
      "+--------------------+--------------------+------------------+\n",
      "only showing top 20 rows\n",
      "\n"
     ]
    }
   ],
   "source": [
    "df_gbdiv_req = df.groupby(\"dept_division\", \"service_request_type\")\\\n",
    "        .mean('num_days_late')\n",
    "df_gbdiv_req = df_gbdiv_req.sort('avg(num_days_late)', ascending=False)\n",
    "df_gbdiv_req.show()"
   ]
  },
  {
   "cell_type": "code",
   "execution_count": 1,
   "metadata": {},
   "outputs": [
    {
     "ename": "NameError",
     "evalue": "name 'spark' is not defined",
     "output_type": "error",
     "traceback": [
      "\u001b[0;31m---------------------------------------------------------------------------\u001b[0m",
      "\u001b[0;31mNameError\u001b[0m                                 Traceback (most recent call last)",
      "\u001b[0;32m<ipython-input-1-5c6b4d5d9db0>\u001b[0m in \u001b[0;36m<module>\u001b[0;34m\u001b[0m\n\u001b[0;32m----> 1\u001b[0;31m \u001b[0mspark\u001b[0m\u001b[0;34m.\u001b[0m\u001b[0mstop\u001b[0m\u001b[0;34m(\u001b[0m\u001b[0;34m)\u001b[0m\u001b[0;34m\u001b[0m\u001b[0;34m\u001b[0m\u001b[0m\n\u001b[0m",
      "\u001b[0;31mNameError\u001b[0m: name 'spark' is not defined"
     ]
    }
   ],
   "source": [
    "spark.stop()"
   ]
  },
  {
   "cell_type": "code",
   "execution_count": null,
   "metadata": {},
   "outputs": [],
   "source": []
  }
 ],
 "metadata": {
  "kernelspec": {
   "display_name": "Python 3",
   "language": "python",
   "name": "python3"
  },
  "language_info": {
   "codemirror_mode": {
    "name": "ipython",
    "version": 3
   },
   "file_extension": ".py",
   "mimetype": "text/x-python",
   "name": "python",
   "nbconvert_exporter": "python",
   "pygments_lexer": "ipython3",
   "version": "3.7.1"
  }
 },
 "nbformat": 4,
 "nbformat_minor": 2
}
