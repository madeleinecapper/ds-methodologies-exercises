{
 "cells": [
  {
   "cell_type": "code",
   "execution_count": 1,
   "metadata": {},
   "outputs": [],
   "source": [
    "import unicodedata\n",
    "import re\n",
    "import json\n",
    "\n",
    "import nltk\n",
    "from nltk.tokenize.toktok import ToktokTokenizer\n",
    "from nltk.corpus import stopwords\n",
    "\n",
    "import pandas as pd\n",
    "\n",
    "import acquire"
   ]
  },
  {
   "cell_type": "code",
   "execution_count": 29,
   "metadata": {},
   "outputs": [],
   "source": [
    "def basic_clean(unclean):\n",
    "    unclean = unclean.strip()\n",
    "    unclean = unclean.lower()\n",
    "    unclean = re.sub('-', ' ',unclean)\n",
    "    normalized = unicodedata.normalize('NFKD', unclean)\\\n",
    "    .encode('ascii', 'ignore')\\\n",
    "    .decode('utf-8', 'ignore')\n",
    "    normalized = ' '.join(re.sub(r'[^\\w\\s]', '', normalized).split())\n",
    "    return normalized"
   ]
  },
  {
   "cell_type": "code",
   "execution_count": 8,
   "metadata": {},
   "outputs": [],
   "source": [
    "articles = acquire.get_blog_articles()"
   ]
  },
  {
   "cell_type": "code",
   "execution_count": 9,
   "metadata": {},
   "outputs": [
    {
     "data": {
      "text/plain": [
       "'\\nThe rumors are true! The time has arrived. Codeup has officially opened applications to our new Data Science career accelerator, with only 25 seats available! This immersive program is one of a kind in San Antonio, and will help you land a job in\\xa0Glassdoor’s #1 Best Job in America.\\nData Science is a method of providing actionable intelligence from data.\\xa0The data revolution has hit San Antonio,\\xa0resulting in an explosion in Data Scientist positions\\xa0across companies like USAA, Accenture, Booz Allen Hamilton, and HEB. We’ve even seen\\xa0UTSA invest $70 M for a Cybersecurity Center and School of Data Science.\\xa0We built a program to specifically meet the growing demands of this industry.\\nOur program will be 18 weeks long, full-time, hands-on, and project-based. Our curriculum development and instruction is led by Senior Data Scientist, Maggie Giust, who has worked at HEB, Capital Group, and Rackspace, along with input from dozens of practitioners and hiring partners. Students will work with real data sets, realistic problems, and the entire data science pipeline from collection to deployment. They will receive professional development training in resume writing, interviewing, and continuing education to prepare for a smooth transition to the workforce.\\nWe focus on applied data science for immediate impact and ROI in a business, which is how we can back it all up with a 6 month tuition refund guarantee – just like our existing Web Dev program. We’re focusing on Data Science with Python, SQL, and ML, covered in\\xa014 modules: 1) Fundamentals; 2) Applied statistics; 3) SQL; 4) Python; 5) Supervised machine learning – regression; 6) Supervised machine learning – classification; 7) Unsupervised machine learning – clustering; 8) Time series analysis; 9) Anomaly detection; 10) Natural language processing; 11) Distributed machine learning; 12) Advanced topics (deep learning, NoSQL, cloud deployment, etc.); 13) Storytelling with data; and 14) Domain expertise development.\\nApplications are now open\\xa0for Codeup’s first Data Science cohort, which will start class on February 4, 2019. Hurry – there are only 25 seats available! To further our mission of cultivating inclusive growth, scholarships will be available to women, minorities, LGBTQIA+ individuals, veterans, first responders, and people relocating to San Antonio.\\nIf you want to learn about joining our program or hiring our graduates, email datascience@codeup.com!\\n'"
      ]
     },
     "execution_count": 9,
     "metadata": {},
     "output_type": "execute_result"
    }
   ],
   "source": [
    "article1 = articles[0]['content']\n",
    "article1"
   ]
  },
  {
   "cell_type": "code",
   "execution_count": 15,
   "metadata": {},
   "outputs": [],
   "source": [
    "basic_clean_a1 = basic_clean(article1)"
   ]
  },
  {
   "cell_type": "code",
   "execution_count": 16,
   "metadata": {},
   "outputs": [
    {
     "data": {
      "text/plain": [
       "'the rumors are true the time has arrived codeup has officially opened applications to our new data science career accelerator with only 25 seats available this immersive program is one of a kind in san antonio and will help you land a job in glassdoors 1 best job in america data science is a method of providing actionable intelligence from data the data revolution has hit san antonio resulting in an explosion in data scientist positions across companies like usaa accenture booz allen hamilton and heb weve even seen utsa invest 70 m for a cybersecurity center and school of data science we built a program to specifically meet the growing demands of this industry our program will be 18 weeks long fulltime handson and projectbased our curriculum development and instruction is led by senior data scientist maggie giust who has worked at heb capital group and rackspace along with input from dozens of practitioners and hiring partners students will work with real data sets realistic problems and the entire data science pipeline from collection to deployment they will receive professional development training in resume writing interviewing and continuing education to prepare for a smooth transition to the workforce we focus on applied data science for immediate impact and roi in a business which is how we can back it all up with a 6 month tuition refund guarantee just like our existing web dev program were focusing on data science with python sql and ml covered in 14 modules 1 fundamentals 2 applied statistics 3 sql 4 python 5 supervised machine learning regression 6 supervised machine learning classification 7 unsupervised machine learning clustering 8 time series analysis 9 anomaly detection 10 natural language processing 11 distributed machine learning 12 advanced topics deep learning nosql cloud deployment etc 13 storytelling with data and 14 domain expertise development applications are now open for codeups first data science cohort which will start class on february 4 2019 hurry there are only 25 seats available to further our mission of cultivating inclusive growth scholarships will be available to women minorities lgbtqia individuals veterans first responders and people relocating to san antonio if you want to learn about joining our program or hiring our graduates email datasciencecodeupcom'"
      ]
     },
     "execution_count": 16,
     "metadata": {},
     "output_type": "execute_result"
    }
   ],
   "source": [
    "basic_clean_a1"
   ]
  },
  {
   "cell_type": "code",
   "execution_count": 30,
   "metadata": {},
   "outputs": [],
   "source": [
    "import acquire_zach\n",
    "news = acquire_zach.get_news_articles()"
   ]
  },
  {
   "cell_type": "code",
   "execution_count": 31,
   "metadata": {},
   "outputs": [],
   "source": [
    "news1 = news[0]['content']"
   ]
  },
  {
   "cell_type": "code",
   "execution_count": 32,
   "metadata": {},
   "outputs": [],
   "source": [
    "news1 = basic_clean(news1)"
   ]
  },
  {
   "cell_type": "code",
   "execution_count": 33,
   "metadata": {},
   "outputs": [
    {
     "data": {
      "text/plain": [
       "'after worlds fourth richest person warren buffett claimed carmaker tesla cannot sell insurance teslas ceo elon musk responded with a series of tweets on sunday in his first tweet musk urged users to buy tesla model 3 claiming its cheaper than a honda accord also 1000 times more fun and thats a direct quote from warren buffett his next tweets read'"
      ]
     },
     "execution_count": 33,
     "metadata": {},
     "output_type": "execute_result"
    }
   ],
   "source": [
    "news1"
   ]
  },
  {
   "cell_type": "code",
   "execution_count": 26,
   "metadata": {},
   "outputs": [],
   "source": [
    "def tokenize(some_text):\n",
    "    '''takes in a string and tokenizes all the words in the string'''\n",
    "    tokenizer = nltk.tokenize.ToktokTokenizer()\n",
    "    some_text = tokenizer.tokenize(some_text, return_str=True)\n",
    "    return some_text"
   ]
  },
  {
   "cell_type": "code",
   "execution_count": 28,
   "metadata": {},
   "outputs": [
    {
     "data": {
      "text/plain": [
       "\"Gujarat-based diamond trader Savji Dholakia , who ' s known for gifting cars to his employees , has said he ' ll remove a ' kutcha ' road built by him across the dry Narmada river to reach his farmhouse. This comes after government officials visited the spot on learning about the illegal structure. Meanwhile , Dholakia said his only intention was to enable people to reach the island .\""
      ]
     },
     "execution_count": 28,
     "metadata": {},
     "output_type": "execute_result"
    }
   ],
   "source": [
    "tokenized_news = tokenize(news1)\n",
    "tokenized_news\n",
    "tokenized_news2 = tokenize(news[1]['content'])\n",
    "tokenized_news2"
   ]
  },
  {
   "cell_type": "code",
   "execution_count": 34,
   "metadata": {},
   "outputs": [],
   "source": [
    "def stem(some_text):\n",
    "    '''accepts some text and returns the text after applying stemming to words'''\n",
    "    ps = nltk.stem.PorterStemmer()\n",
    "    stems = [ps.stem(word) for word in some_text.split()]\n",
    "    article_stemmed = ' '.join(stems)\n",
    "    return article_stemmed"
   ]
  },
  {
   "cell_type": "code",
   "execution_count": 35,
   "metadata": {},
   "outputs": [],
   "source": [
    "def lemmatize(some_text):\n",
    "    '''accepts some text and returns the text after applying lemmatization to ea word'''\n",
    "    wn = nltk.stem.WordNetLemmatizer()\n",
    "    lemmas = [wn.lemmatize(word) for word in some_text.split()]\n",
    "    article_lemmatized = ' '.join(lemmas)\n",
    "    return article_lemmatized"
   ]
  },
  {
   "cell_type": "code",
   "execution_count": 45,
   "metadata": {},
   "outputs": [],
   "source": [
    "def remove_stopwords(some_text, extra_words = [], exclude_words = []):\n",
    "    '''accepts some text and returns it after removing stopwords'''\n",
    "    stopword_list = stopwords.words('english')\n",
    "    [stopword_list.append(word) for word in extra_words if word not in stopword_list]\n",
    "    [stopword_list.remove(word) for word in exclude_words if word in stopword_list]\n",
    "    word_list = some_text.split()\n",
    "    filtered_words = [w for w in word_list if w not in stopword_list]\n",
    "    return ' '.join(filtered_words)"
   ]
  },
  {
   "cell_type": "code",
   "execution_count": 46,
   "metadata": {},
   "outputs": [],
   "source": [
    "news1 = remove_stopwords(news1)"
   ]
  },
  {
   "cell_type": "code",
   "execution_count": 47,
   "metadata": {},
   "outputs": [
    {
     "data": {
      "text/plain": [
       "'worlds fourth richest person warren buffett claimed carmaker tesla cannot sell insurance teslas ceo elon musk responded series tweets sunday first tweet musk urged users buy tesla model 3 claiming cheaper honda accord also 1000 times fun thats direct quote warren buffett next tweets read'"
      ]
     },
     "execution_count": 47,
     "metadata": {},
     "output_type": "execute_result"
    }
   ],
   "source": [
    "news1"
   ]
  },
  {
   "cell_type": "code",
   "execution_count": 51,
   "metadata": {},
   "outputs": [],
   "source": [
    "list_of_keys = list(news[0].keys())"
   ]
  },
  {
   "cell_type": "code",
   "execution_count": 52,
   "metadata": {},
   "outputs": [
    {
     "data": {
      "text/plain": [
       "['title', 'content', 'category']"
      ]
     },
     "execution_count": 52,
     "metadata": {},
     "output_type": "execute_result"
    }
   ],
   "source": [
    "list_of_keys"
   ]
  },
  {
   "cell_type": "code",
   "execution_count": 57,
   "metadata": {},
   "outputs": [
    {
     "name": "stdout",
     "output_type": "stream",
     "text": [
      "yes!\n"
     ]
    }
   ],
   "source": [
    "if 'title' and 'content' in list_of_keys:\n",
    "    print('yes!')"
   ]
  },
  {
   "cell_type": "code",
   "execution_count": 87,
   "metadata": {},
   "outputs": [],
   "source": [
    "def prep_article(d_content, extra_words = [], exclude_words = []):\n",
    "    if 'title' and 'content' in list(d_content.keys()):\n",
    "        cleaned = basic_clean(d_content['content'])\n",
    "        tokened = tokenize(cleaned)\n",
    "        prepped_content = {\n",
    "            'title': d_content['title'],\n",
    "            'original': d_content['content'],\n",
    "            'stemmed': stem(tokened),\n",
    "            'lemmatized': lemmatize(tokened),\n",
    "            'clean': remove_stopwords(tokened, extra_words, exclude_words)\n",
    "        }\n",
    "        return prepped_content\n",
    "    else:\n",
    "        print('~~~Function requires a dictionary with a \\'title\\' and \\'content\\' key.~~~')\n",
    "              "
   ]
  },
  {
   "cell_type": "code",
   "execution_count": 89,
   "metadata": {},
   "outputs": [
    {
     "name": "stdout",
     "output_type": "stream",
     "text": [
      "Function requires a dictionary with a 'title' and 'content' key.\n"
     ]
    }
   ],
   "source": [
    "preppedtest = prep_article({'hi': 'this isnt right'})"
   ]
  },
  {
   "cell_type": "code",
   "execution_count": 85,
   "metadata": {},
   "outputs": [
    {
     "data": {
      "text/plain": [
       "{'title': \"I'll never hesitate to fly on 737 MAX: Buffett on crashes killing 346\",\n",
       " 'original': 'World\\'s fourth-richest person, Warren Buffett, has said that he will \"never hesitate even for a second to fly on a Boeing 737 MAX plane\" which was involved in two crashes that claimed the lives of 346 people. He was responding to a question about damage to Boeing\\'s reputation after the crashes. \"Planes have never been so safe,\" Buffett added.',\n",
       " 'stemmed': 'world fourth richest person warren buffett ha said that he will never hesit even for a second to fli on a boe 737 max plane which wa involv in two crash that claim the live of 346 peopl he wa respond to a question about damag to boe reput after the crash plane have never been so safe buffett ad',\n",
       " 'lemmatized': 'world fourth richest person warren buffett ha said that he will never hesitate even for a second to fly on a boeing 737 max plane which wa involved in two crash that claimed the life of 346 people he wa responding to a question about damage to boeings reputation after the crash plane have never been so safe buffett added',\n",
       " 'clean': 'worlds fourth richest person warren buffett said never hesitate even second fly boeing 737 max plane involved two crashes claimed lives 346 people responding question damage boeings reputation crashes planes never safe buffett added'}"
      ]
     },
     "execution_count": 85,
     "metadata": {},
     "output_type": "execute_result"
    }
   ],
   "source": [
    "preppedtest"
   ]
  },
  {
   "cell_type": "code",
   "execution_count": 90,
   "metadata": {},
   "outputs": [],
   "source": [
    "def prepare_article_data(list_o_dicts):\n",
    "    return [prep_article(art) for art in list_o_dicts]"
   ]
  },
  {
   "cell_type": "code",
   "execution_count": 91,
   "metadata": {},
   "outputs": [],
   "source": [
    "prepped_news = prepare_article_data(news)"
   ]
  },
  {
   "cell_type": "code",
   "execution_count": 92,
   "metadata": {},
   "outputs": [
    {
     "data": {
      "text/plain": [
       "{'title': 'Infosys makes Hyd staff pay for parking, activists call it illegal',\n",
       " 'original': \"Activists in Hyderabad have claimed that Infosys deducting parking charges from employees' salary is illegal. Infosys charges ₹500 for four-wheelers and ₹250 for two-wheelers per month to park on the campus located in the Pocharam Special Economic Zone in city's outskirts. The management reportedly responded to employee complaints by saying the fee was being collected to maintain the parking lot.\",\n",
       " 'stemmed': 'activist in hyderabad have claim that infosi deduct park charg from employe salari is illeg infosi charg 500 for four wheeler and 250 for two wheeler per month to park on the campu locat in the pocharam special econom zone in citi outskirt the manag reportedli respond to employe complaint by say the fee wa be collect to maintain the park lot',\n",
       " 'lemmatized': 'activist in hyderabad have claimed that infosys deducting parking charge from employee salary is illegal infosys charge 500 for four wheeler and 250 for two wheeler per month to park on the campus located in the pocharam special economic zone in city outskirt the management reportedly responded to employee complaint by saying the fee wa being collected to maintain the parking lot',\n",
       " 'clean': 'activists hyderabad claimed infosys deducting parking charges employees salary illegal infosys charges 500 four wheelers 250 two wheelers per month park campus located pocharam special economic zone citys outskirts management reportedly responded employee complaints saying fee collected maintain parking lot'}"
      ]
     },
     "execution_count": 92,
     "metadata": {},
     "output_type": "execute_result"
    }
   ],
   "source": [
    "prepped_news[3]"
   ]
  },
  {
   "cell_type": "code",
   "execution_count": null,
   "metadata": {},
   "outputs": [],
   "source": []
  }
 ],
 "metadata": {
  "kernelspec": {
   "display_name": "Python 3",
   "language": "python",
   "name": "python3"
  },
  "language_info": {
   "codemirror_mode": {
    "name": "ipython",
    "version": 3
   },
   "file_extension": ".py",
   "mimetype": "text/x-python",
   "name": "python",
   "nbconvert_exporter": "python",
   "pygments_lexer": "ipython3",
   "version": "3.7.1"
  }
 },
 "nbformat": 4,
 "nbformat_minor": 2
}
