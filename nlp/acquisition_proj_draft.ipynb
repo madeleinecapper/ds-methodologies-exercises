{
 "cells": [
  {
   "cell_type": "code",
   "execution_count": 62,
   "metadata": {},
   "outputs": [],
   "source": [
    "from bs4 import BeautifulSoup as bsoup\n",
    "import requests"
   ]
  },
  {
   "cell_type": "code",
   "execution_count": 73,
   "metadata": {},
   "outputs": [
    {
     "data": {
      "text/plain": [
       "200"
      ]
     },
     "execution_count": 73,
     "metadata": {},
     "output_type": "execute_result"
    }
   ],
   "source": [
    "url = 'https://github.com/CodeupClassroom/ada-ds-methodologies'\n",
    "url2 = 'https://github.com/classification-orion-matthew/classification_orion_matthew'\n",
    "response = requests.get(url)\n",
    "response.status_code"
   ]
  },
  {
   "cell_type": "code",
   "execution_count": 64,
   "metadata": {},
   "outputs": [],
   "source": [
    "soup = bsoup(response.text)"
   ]
  },
  {
   "cell_type": "code",
   "execution_count": 75,
   "metadata": {},
   "outputs": [],
   "source": [
    "langs = soup.find_all(class_ = 'lang')\n",
    "repo = bsoup(response.text)"
   ]
  },
  {
   "cell_type": "code",
   "execution_count": null,
   "metadata": {},
   "outputs": [],
   "source": [
    "rm_bod = repo.find_all(class_ ='markdown-body entry-content p-5')\n",
    "urls = ['https://github.com/matthewcapper/codeup-ds-projects', 'https://github.com/adagroup2/checkbook', 'https://github.com/matthewcapper/python-exercises', 'https://github.com/classification-orion-matthew/classification_orion_matthew']"
   ]
  },
  {
   "cell_type": "code",
   "execution_count": 171,
   "metadata": {},
   "outputs": [
    {
     "data": {
      "text/plain": [
       "'Python'"
      ]
     },
     "execution_count": 171,
     "metadata": {},
     "output_type": "execute_result"
    }
   ],
   "source": [
    "if len(repo.find_all(class_='lang')) > 1:\n",
    "    if repo.find_all(class_='lang')[0] == 'Jupyter NoteBook':\n",
    "        primary_language = repo.find_all(class_='lang')[1]\n",
    "primary_language"
   ]
  },
  {
   "cell_type": "code",
   "execution_count": 144,
   "metadata": {},
   "outputs": [],
   "source": [
    "repo = bsoup(response.text)"
   ]
  },
  {
   "cell_type": "code",
   "execution_count": 154,
   "metadata": {},
   "outputs": [],
   "source": [
    "# Get the readme body from the page: \n",
    "rm_bod = repo.find_all(class_ ='markdown-body entry-content p-5')[0].text"
   ]
  },
  {
   "cell_type": "code",
   "execution_count": 166,
   "metadata": {},
   "outputs": [],
   "source": [
    "def get_primary_language(repo):\n",
    "    page_languages = []\n",
    "    primary_language = ''\n",
    "    langs = repo.find_all(class_ = 'lang')\n",
    "    for i, n in enumerate(langs):\n",
    "        page_languages.append(str(list(langs[i].children)[0]))\n",
    "    for i in page_languages:\n",
    "        if i == 'Jupyter Notebook' and len(page_languages) < 1:\n",
    "            primary_language = i\n",
    "        elif i == 'Jupyter Notebook' and len(page_languages) > 1:\n",
    "            pass\n",
    "        else:\n",
    "            primary_language = i\n",
    "            break\n",
    "    return primary_language"
   ]
  },
  {
   "cell_type": "code",
   "execution_count": 167,
   "metadata": {},
   "outputs": [
    {
     "data": {
      "text/plain": [
       "'Python'"
      ]
     },
     "execution_count": 167,
     "metadata": {},
     "output_type": "execute_result"
    }
   ],
   "source": [
    "get_primary_language(repo)"
   ]
  },
  {
   "cell_type": "code",
   "execution_count": 161,
   "metadata": {},
   "outputs": [],
   "source": [
    "def get_readme_body(repo):\n",
    "    rm_bod = repo.find_all(class_ ='markdown-body entry-content p-5')[0].text\n",
    "    return rm_bod"
   ]
  },
  {
   "cell_type": "code",
   "execution_count": null,
   "metadata": {},
   "outputs": [],
   "source": []
  }
 ],
 "metadata": {
  "kernelspec": {
   "display_name": "Python 3",
   "language": "python",
   "name": "python3"
  },
  "language_info": {
   "codemirror_mode": {
    "name": "ipython",
    "version": 3
   },
   "file_extension": ".py",
   "mimetype": "text/x-python",
   "name": "python",
   "nbconvert_exporter": "python",
   "pygments_lexer": "ipython3",
   "version": "3.7.1"
  }
 },
 "nbformat": 4,
 "nbformat_minor": 2
}
