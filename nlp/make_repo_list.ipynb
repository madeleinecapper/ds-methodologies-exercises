{
 "cells": [
  {
   "cell_type": "code",
   "execution_count": 1,
   "metadata": {},
   "outputs": [],
   "source": [
    "from bs4 import BeautifulSoup as bsoup\n",
    "import requests"
   ]
  },
  {
   "cell_type": "code",
   "execution_count": 2,
   "metadata": {},
   "outputs": [],
   "source": [
    "# first test url\n",
    "url = 'https://github.com/search?p=2&q=stars%3A%3E0&s=stars&type=Repositories'\n",
    "response = requests.get(url)\n",
    "soup = bsoup(response.text)"
   ]
  },
  {
   "cell_type": "code",
   "execution_count": 31,
   "metadata": {},
   "outputs": [],
   "source": [
    "# break up url into parts for concatination\n",
    "url_p1 = 'https://github.com/search?p='\n",
    "url_p2 = [str(i) for i in range(0,20)]\n",
    "url_p3 = '&q=stars%3A%3E0&s=stars&type=Repositories'"
   ]
  },
  {
   "cell_type": "code",
   "execution_count": 33,
   "metadata": {},
   "outputs": [],
   "source": [
    "# find all middles:\n",
    "# soup.find_all(class_='v-align-middle')"
   ]
  },
  {
   "cell_type": "code",
   "execution_count": 29,
   "metadata": {},
   "outputs": [],
   "source": [
    "# get middle aligned class items\n",
    "middles = soup.find_all(class_='v-align-middle')"
   ]
  },
  {
   "cell_type": "code",
   "execution_count": 34,
   "metadata": {},
   "outputs": [],
   "source": [
    "# take only the values that represent the urls on the page (last ten)\n",
    "urls = middles[-10:]"
   ]
  },
  {
   "cell_type": "code",
   "execution_count": 35,
   "metadata": {},
   "outputs": [],
   "source": [
    "urls = [urls[i].text for i in range(0, len(urls))]"
   ]
  },
  {
   "cell_type": "code",
   "execution_count": 38,
   "metadata": {},
   "outputs": [],
   "source": [
    "repo_urls = []\n",
    "for num in url_p2:\n",
    "    url = url_p1 + num + url_p3\n",
    "    response = requests.get(url)\n",
    "    soup = bsoup(response.text)\n",
    "    middles = soup.find_all(class_='v-align-middle')\n",
    "    urls = middles[-10:]\n",
    "    urls = [urls[i].text for i in range(0, len(urls))]\n",
    "    repo_urls = repo_urls + urls"
   ]
  },
  {
   "cell_type": "code",
   "execution_count": 40,
   "metadata": {},
   "outputs": [
    {
     "data": {
      "text/plain": [
       "80"
      ]
     },
     "execution_count": 40,
     "metadata": {},
     "output_type": "execute_result"
    }
   ],
   "source": [
    "len(repo_urls)"
   ]
  },
  {
   "cell_type": "code",
   "execution_count": null,
   "metadata": {},
   "outputs": [],
   "source": [
    "BASE_URL = 'https://github.com/'\n",
    "SECTIONS = repo_urls\n"
   ]
  }
 ],
 "metadata": {
  "kernelspec": {
   "display_name": "Python 3",
   "language": "python",
   "name": "python3"
  },
  "language_info": {
   "codemirror_mode": {
    "name": "ipython",
    "version": 3
   },
   "file_extension": ".py",
   "mimetype": "text/x-python",
   "name": "python",
   "nbconvert_exporter": "python",
   "pygments_lexer": "ipython3",
   "version": "3.7.1"
  }
 },
 "nbformat": 4,
 "nbformat_minor": 2
}
