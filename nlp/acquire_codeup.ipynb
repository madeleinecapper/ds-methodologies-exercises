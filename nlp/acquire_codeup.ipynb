{
 "cells": [
  {
   "cell_type": "code",
   "execution_count": 1,
   "metadata": {},
   "outputs": [],
   "source": [
    "import requests\n",
    "from bs4 import BeautifulSoup as bsoup\n",
    "import os"
   ]
  },
  {
   "cell_type": "code",
   "execution_count": 2,
   "metadata": {},
   "outputs": [],
   "source": [
    "url = 'https://codeup.com/codeups-data-science-career-accelerator-is-here/'\n"
   ]
  },
  {
   "cell_type": "code",
   "execution_count": 3,
   "metadata": {},
   "outputs": [],
   "source": [
    "headers = {'User-Agent': 'Codeup Ada Data Science'}\n",
    "response = requests.get(url, headers=headers)"
   ]
  },
  {
   "cell_type": "code",
   "execution_count": 4,
   "metadata": {},
   "outputs": [],
   "source": [
    "soup = bsoup(response.text)"
   ]
  },
  {
   "cell_type": "code",
   "execution_count": 5,
   "metadata": {},
   "outputs": [
    {
     "data": {
      "text/plain": [
       "1"
      ]
     },
     "execution_count": 5,
     "metadata": {},
     "output_type": "execute_result"
    }
   ],
   "source": [
    "len(soup.find_all(class_='mk-single-content'))"
   ]
  },
  {
   "cell_type": "code",
   "execution_count": null,
   "metadata": {},
   "outputs": [],
   "source": []
  },
  {
   "cell_type": "code",
   "execution_count": 6,
   "metadata": {},
   "outputs": [],
   "source": [
    "web_list = ['https://codeup.com/codeups-data-science-career-accelerator-is-here/', 'https://codeup.com/data-science-myths/', 'https://codeup.com/data-science-vs-data-analytics-whats-the-difference/', 'https://codeup.com/10-tips-to-crush-it-at-the-sa-tech-job-fair/', 'https://codeup.com/competitor-bootcamps-are-closing-is-the-model-in-danger/']\n"
   ]
  },
  {
   "cell_type": "code",
   "execution_count": 7,
   "metadata": {},
   "outputs": [],
   "source": [
    "url2 = 'https://codeup.com/competitor-bootcamps-are-closing-is-the-model-in-danger/'"
   ]
  },
  {
   "cell_type": "code",
   "execution_count": 8,
   "metadata": {},
   "outputs": [],
   "source": [
    "response = requests.get(url2, headers=headers)\n",
    "soup = bsoup(response.text)\n",
    "article = soup.find(class_='mk-single-content').text\n",
    "title, body = article.split('\\n')[1], article.split('\\n')[2:]"
   ]
  },
  {
   "cell_type": "code",
   "execution_count": 9,
   "metadata": {},
   "outputs": [],
   "source": [
    "def get_repo_titles(web_list):\n",
    "    article_titles = []\n",
    "    for site in web_list:\n",
    "        response = requests.get(site, headers=headers)\n",
    "        soup = bsoup(response.text)\n",
    "        if len(soup.find_all(class_='page-title')) > 0:\n",
    "            article_titles.append(soup.find(class_='page-title').text)\n",
    "        else:\n",
    "            article = soup.find(class_='mk-single-content').text\n",
    "            title = article.split('\\n')[1]\n",
    "            article_titles.append(title)\n",
    "    return article_titles\n",
    "    \n",
    "def get_article_bodies(web_list):\n",
    "    article_bodies = []\n",
    "    for site in web_list:\n",
    "        response = requests.get(site, headers=headers)\n",
    "        soup = bsoup(response.text)\n",
    "        if len(soup.find_all(class_='page-title')) > 0:\n",
    "            article_bodies.append(soup.find(class_='mk-single-content').text)\n",
    "        else:\n",
    "            article = soup.find(class_='mk-single-content').text\n",
    "            body = article.split('\\n')[2:]\n",
    "            article_bodies.append(body)\n",
    "    return article_bodies\n",
    "\n"
   ]
  },
  {
   "cell_type": "code",
   "execution_count": 10,
   "metadata": {},
   "outputs": [
    {
     "data": {
      "text/plain": [
       "['Codeup’s Data Science Career Accelerator is Here!',\n",
       " 'Data Science Myths',\n",
       " 'Data Science VS Data Analytics: What’s The Difference?',\n",
       " '10 Tips to Crush It at the SA Tech Job Fair',\n",
       " 'Competitor Bootcamps Are Closing. Is the Model in Danger?']"
      ]
     },
     "execution_count": 10,
     "metadata": {},
     "output_type": "execute_result"
    }
   ],
   "source": [
    "article_titles = get_article_titles(web_list)\n",
    "article_titles"
   ]
  },
  {
   "cell_type": "code",
   "execution_count": 11,
   "metadata": {},
   "outputs": [],
   "source": [
    "article_list = []\n",
    "article_titles = []\n",
    "article_bodies = []\n",
    "for site in web_list:\n",
    "    response = requests.get(site, headers=headers)\n",
    "    soup = bsoup(response.text)\n",
    "    if len(soup.find_all(class_='page-title')) > 0:\n",
    "        article_titles.append(soup.find(class_='page-title').text)\n",
    "        article_bodies.append(soup.find(class_='mk-single-content').text)\n",
    "    else:\n",
    "        article = soup.find(class_='mk-single-content').text\n",
    "        title, body = article.split('\\n')[1], article.split('\\n')[2:]\n",
    "        article_titles.append(title)\n",
    "        article_bodies.append(body)"
   ]
  },
  {
   "cell_type": "code",
   "execution_count": 12,
   "metadata": {},
   "outputs": [],
   "source": [
    "if len(article_titles) == len(article_bodies):\n",
    "    for i in range(0, len(article_titles)):\n",
    "        article_list.append({'title': article_titles[i], 'content': article_bodies[i]})"
   ]
  },
  {
   "cell_type": "code",
   "execution_count": 13,
   "metadata": {},
   "outputs": [
    {
     "data": {
      "text/plain": [
       "{'title': 'Codeup’s Data Science Career Accelerator is Here!',\n",
       " 'content': '\\nThe rumors are true! The time has arrived. Codeup has officially opened applications to our new Data Science career accelerator, with only 25 seats available! This immersive program is one of a kind in San Antonio, and will help you land a job in\\xa0Glassdoor’s #1 Best Job in America.\\nData Science is a method of providing actionable intelligence from data.\\xa0The data revolution has hit San Antonio,\\xa0resulting in an explosion in Data Scientist positions\\xa0across companies like USAA, Accenture, Booz Allen Hamilton, and HEB. We’ve even seen\\xa0UTSA invest $70 M for a Cybersecurity Center and School of Data Science.\\xa0We built a program to specifically meet the growing demands of this industry.\\nOur program will be 18 weeks long, full-time, hands-on, and project-based. Our curriculum development and instruction is led by Senior Data Scientist, Maggie Giust, who has worked at HEB, Capital Group, and Rackspace, along with input from dozens of practitioners and hiring partners. Students will work with real data sets, realistic problems, and the entire data science pipeline from collection to deployment. They will receive professional development training in resume writing, interviewing, and continuing education to prepare for a smooth transition to the workforce.\\nWe focus on applied data science for immediate impact and ROI in a business, which is how we can back it all up with a 6 month tuition refund guarantee – just like our existing Web Dev program. We’re focusing on Data Science with Python, SQL, and ML, covered in\\xa014 modules: 1) Fundamentals; 2) Applied statistics; 3) SQL; 4) Python; 5) Supervised machine learning – regression; 6) Supervised machine learning – classification; 7) Unsupervised machine learning – clustering; 8) Time series analysis; 9) Anomaly detection; 10) Natural language processing; 11) Distributed machine learning; 12) Advanced topics (deep learning, NoSQL, cloud deployment, etc.); 13) Storytelling with data; and 14) Domain expertise development.\\nApplications are now open\\xa0for Codeup’s first Data Science cohort, which will start class on February 4, 2019. Hurry – there are only 25 seats available! To further our mission of cultivating inclusive growth, scholarships will be available to women, minorities, LGBTQIA+ individuals, veterans, first responders, and people relocating to San Antonio.\\nIf you want to learn about joining our program or hiring our graduates, email datascience@codeup.com!\\n'}"
      ]
     },
     "execution_count": 13,
     "metadata": {},
     "output_type": "execute_result"
    }
   ],
   "source": [
    "article_list[0]"
   ]
  },
  {
   "cell_type": "code",
   "execution_count": 65,
   "metadata": {},
   "outputs": [
    {
     "data": {
      "text/plain": [
       "['Codeup’s Data Science Career Accelerator is Here!',\n",
       " 'Data Science Myths',\n",
       " 'Data Science VS Data Analytics: What’s The Difference?',\n",
       " '10 Tips to Crush It at the SA Tech Job Fair',\n",
       " 'Competitor Bootcamps Are Closing. Is the Model in Danger?']"
      ]
     },
     "execution_count": 65,
     "metadata": {},
     "output_type": "execute_result"
    }
   ],
   "source": [
    "article_titles"
   ]
  },
  {
   "cell_type": "code",
   "execution_count": 70,
   "metadata": {},
   "outputs": [
    {
     "name": "stdout",
     "output_type": "stream",
     "text": [
      "<class 'str'>\n",
      "Codeup’s Data Science Career Accelerator is Here!ARBITRARY STRING\n",
      "<class 'str'>\n",
      "Data Science MythsARBITRARY STRING\n",
      "<class 'str'>\n",
      "Data Science VS Data Analytics: What’s The Difference?ARBITRARY STRING\n",
      "<class 'str'>\n",
      "10 Tips to Crush It at the SA Tech Job FairARBITRARY STRING\n",
      "<class 'str'>\n",
      "Competitor Bootcamps Are Closing. Is the Model in Danger?ARBITRARY STRING\n"
     ]
    }
   ],
   "source": [
    "for title in article_titles:\n",
    "        print(type(title))\n",
    "        print(title + 'ARBITRARY STRING')"
   ]
  },
  {
   "cell_type": "code",
   "execution_count": 73,
   "metadata": {},
   "outputs": [],
   "source": [
    "def get_file_names(article_titles):\n",
    "    file_names = []\n",
    "    for title in article_titles:\n",
    "        file_names.append(title + r'.txt')\n",
    "    return file_names"
   ]
  },
  {
   "cell_type": "code",
   "execution_count": 75,
   "metadata": {},
   "outputs": [
    {
     "data": {
      "text/plain": [
       "['Codeup’s Data Science Career Accelerator is Here!.txt',\n",
       " 'Data Science Myths.txt',\n",
       " 'Data Science VS Data Analytics: What’s The Difference?.txt',\n",
       " '10 Tips to Crush It at the SA Tech Job Fair.txt',\n",
       " 'Competitor Bootcamps Are Closing. Is the Model in Danger?.txt']"
      ]
     },
     "execution_count": 75,
     "metadata": {},
     "output_type": "execute_result"
    }
   ],
   "source": [
    "file_names = get_file_names(article_titles)\n",
    "file_names"
   ]
  },
  {
   "cell_type": "code",
   "execution_count": 83,
   "metadata": {},
   "outputs": [],
   "source": [
    "def get_blog_articles(web_list):\n",
    "    article_titles = get_article_titles(web_list)\n",
    "    article_bodies = get_article_bodies(web_list)\n",
    "    article_list = []\n",
    "    if len(article_titles) == len(article_bodies):\n",
    "        for i in range(0, len(article_titles)):\n",
    "            article_list.append({'title': article_titles[i], 'content': article_bodies[i]})\n",
    "        return article_list\n",
    "    else:\n",
    "        print('Something went wrong.  You have {} article titles and {} artilcle bodies'.format(len(article_titles), len(article_bodies)))"
   ]
  },
  {
   "cell_type": "code",
   "execution_count": 84,
   "metadata": {},
   "outputs": [],
   "source": [
    "article_list = get_blog_articles(web_list)"
   ]
  },
  {
   "cell_type": "code",
   "execution_count": 85,
   "metadata": {},
   "outputs": [
    {
     "data": {
      "text/plain": [
       "{'title': 'Codeup’s Data Science Career Accelerator is Here!',\n",
       " 'content': '\\nThe rumors are true! The time has arrived. Codeup has officially opened applications to our new Data Science career accelerator, with only 25 seats available! This immersive program is one of a kind in San Antonio, and will help you land a job in\\xa0Glassdoor’s #1 Best Job in America.\\nData Science is a method of providing actionable intelligence from data.\\xa0The data revolution has hit San Antonio,\\xa0resulting in an explosion in Data Scientist positions\\xa0across companies like USAA, Accenture, Booz Allen Hamilton, and HEB. We’ve even seen\\xa0UTSA invest $70 M for a Cybersecurity Center and School of Data Science.\\xa0We built a program to specifically meet the growing demands of this industry.\\nOur program will be 18 weeks long, full-time, hands-on, and project-based. Our curriculum development and instruction is led by Senior Data Scientist, Maggie Giust, who has worked at HEB, Capital Group, and Rackspace, along with input from dozens of practitioners and hiring partners. Students will work with real data sets, realistic problems, and the entire data science pipeline from collection to deployment. They will receive professional development training in resume writing, interviewing, and continuing education to prepare for a smooth transition to the workforce.\\nWe focus on applied data science for immediate impact and ROI in a business, which is how we can back it all up with a 6 month tuition refund guarantee – just like our existing Web Dev program. We’re focusing on Data Science with Python, SQL, and ML, covered in\\xa014 modules: 1) Fundamentals; 2) Applied statistics; 3) SQL; 4) Python; 5) Supervised machine learning – regression; 6) Supervised machine learning – classification; 7) Unsupervised machine learning – clustering; 8) Time series analysis; 9) Anomaly detection; 10) Natural language processing; 11) Distributed machine learning; 12) Advanced topics (deep learning, NoSQL, cloud deployment, etc.); 13) Storytelling with data; and 14) Domain expertise development.\\nApplications are now open\\xa0for Codeup’s first Data Science cohort, which will start class on February 4, 2019. Hurry – there are only 25 seats available! To further our mission of cultivating inclusive growth, scholarships will be available to women, minorities, LGBTQIA+ individuals, veterans, first responders, and people relocating to San Antonio.\\nIf you want to learn about joining our program or hiring our graduates, email datascience@codeup.com!\\n'}"
      ]
     },
     "execution_count": 85,
     "metadata": {},
     "output_type": "execute_result"
    }
   ],
   "source": [
    "article_list[0]"
   ]
  },
  {
   "cell_type": "code",
   "execution_count": null,
   "metadata": {},
   "outputs": [],
   "source": [
    "# def \n",
    "# for document in file_names:\n",
    "#     if path.exists(document):\n",
    "#         with open(document) as f:\n",
    "#             return f.read()\n",
    "#     else:\n",
    "#         with open(document, 'w') as f:\n",
    "#             f.write(document)\n",
    "#     return document"
   ]
  }
 ],
 "metadata": {
  "kernelspec": {
   "display_name": "Python 3",
   "language": "python",
   "name": "python3"
  },
  "language_info": {
   "codemirror_mode": {
    "name": "ipython",
    "version": 3
   },
   "file_extension": ".py",
   "mimetype": "text/x-python",
   "name": "python",
   "nbconvert_exporter": "python",
   "pygments_lexer": "ipython3",
   "version": "3.7.1"
  }
 },
 "nbformat": 4,
 "nbformat_minor": 2
}
