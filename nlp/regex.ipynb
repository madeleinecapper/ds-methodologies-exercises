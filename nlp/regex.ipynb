{
 "cells": [
  {
   "cell_type": "code",
   "execution_count": null,
   "metadata": {},
   "outputs": [],
   "source": []
  },
  {
   "cell_type": "code",
   "execution_count": 1,
   "metadata": {},
   "outputs": [],
   "source": [
    "import re"
   ]
  },
  {
   "cell_type": "markdown",
   "metadata": {},
   "source": [
    "1. Write a function named is_vowel. It should accept a string as input and use a regular expression to determine if the passed string is a vowel. While not explicity mentioned in the lesson, you can treat the result of re.search as a boolean value that indicates whether or not the regular expression matches the given string."
   ]
  },
  {
   "cell_type": "code",
   "execution_count": 2,
   "metadata": {},
   "outputs": [],
   "source": [
    "def is_vowel(word):\n",
    "    '''takes in a string and uses a regex search to verify if the string is a single vowel'''\n",
    "    if re.search(r'^([aeiou]){1}$', word):\n",
    "        print('{} is vowel'.format(word))\n",
    "    else:\n",
    "        print('NO IS NOT VOWEL')"
   ]
  },
  {
   "cell_type": "code",
   "execution_count": 3,
   "metadata": {},
   "outputs": [
    {
     "name": "stdout",
     "output_type": "stream",
     "text": [
      "NO IS NOT VOWEL\n",
      "i is vowel\n",
      "NO IS NOT VOWEL\n"
     ]
    }
   ],
   "source": [
    "is_vowel('happy birthday')\n",
    "is_vowel('i')\n",
    "is_vowel('aeiou')"
   ]
  },
  {
   "cell_type": "markdown",
   "metadata": {},
   "source": [
    "2. Write a function named is_valid_username that accepts a string as input. A valid username starts with a lowercase letter, and only consists of lowercase letters, numbers, or the _ character. It should also be no longer than 32 characters. The function should return either True or False depending on whether the passed string is a valid username."
   ]
  },
  {
   "cell_type": "code",
   "execution_count": 4,
   "metadata": {},
   "outputs": [],
   "source": [
    "def is_valid_username(usrnm):\n",
    "    '''takes in string usrnm and establishes that it \n",
    "    starts with a lowercase letter, has up to 32 characters of letters,\n",
    "    numbers or underscores'''\n",
    "    username_re = r'^[a-z][a-z,0-9, \\_]{1,31}$'\n",
    "    if re.search(username_re, usrnm):\n",
    "        return True\n",
    "    else:\n",
    "        return False"
   ]
  },
  {
   "cell_type": "code",
   "execution_count": 5,
   "metadata": {},
   "outputs": [
    {
     "name": "stdout",
     "output_type": "stream",
     "text": [
      "aaaaaaaaaaaaaaaaaaaaaaaaaaaaaaaaa\n",
      "False\n",
      "codeup\n",
      "True\n",
      "Codeup\n",
      "False\n",
      "codeup123\n",
      "True\n",
      "1codeup\n",
      "False\n",
      "cOdeUp123\n",
      "False\n"
     ]
    }
   ],
   "source": [
    "name_list = ['aaaaaaaaaaaaaaaaaaaaaaaaaaaaaaaaa', 'codeup', 'Codeup', 'codeup123', '1codeup', 'cOdeUp123']\n",
    "for unm in name_list:\n",
    "    print(unm)\n",
    "    print(is_valid_username(unm))"
   ]
  },
  {
   "cell_type": "markdown",
   "metadata": {},
   "source": [
    "3. Write a regular expression to capture phone numbers. It should match all of the following:\n",
    "\n",
    "(210) 867 5309, +1 210.867.5309, 867-5309, 210-867-5309"
   ]
  },
  {
   "cell_type": "code",
   "execution_count": 12,
   "metadata": {},
   "outputs": [],
   "source": [
    "phone_num = '(210) 867 5309'\n",
    "phone_num2 = '+1 210.867.5309'\n",
    "phone_num3 = '867-5309'\n",
    "phone_num4 = '210-867-5309'\n",
    "ph_re1 = r'(.+?\\+\\d ?\\?\\d{,4}\\?[\\.\\ \\-]?{,3}).+?'\n",
    "num_list = [phone_num, phone_num2, phone_num3, phone_num4, 'WHOOPDEDOO', 'WOW MAN (210) 563 5564 HAHA']\n",
    "ph_re = r'(\\+\\d)?(\\(?)\\d+(\\)?)[\\.\\ \\-]?{3}'\n",
    "# re.search(ph_re1, num_list[0])"
   ]
  },
  {
   "cell_type": "code",
   "execution_count": 21,
   "metadata": {},
   "outputs": [],
   "source": [
    "def capture_phone_number(phnum):\n",
    "    '''takes in a string of a phone number and returns string that fits criteria'''\n",
    "    ph_re = r'((\\+\\d )?(\\(?)(\\d{,4}(\\)?)[\\.\\ \\-]?){,3})'\n",
    "    match = re.match(ph_re, phnum)\n",
    "    if len(match[1]) > 1:\n",
    "        return match[0]"
   ]
  },
  {
   "cell_type": "code",
   "execution_count": 22,
   "metadata": {},
   "outputs": [
    {
     "name": "stdout",
     "output_type": "stream",
     "text": [
      "(210) 867 5309\n",
      "+1 210.867.5309\n",
      "867-5309\n",
      "210-867-5309\n",
      "None\n",
      "None\n"
     ]
    }
   ],
   "source": [
    "for unm in num_list:\n",
    "    print(capture_phone_number(unm))"
   ]
  },
  {
   "cell_type": "code",
   "execution_count": 24,
   "metadata": {},
   "outputs": [
    {
     "name": "stdout",
     "output_type": "stream",
     "text": [
      "(210) 867 5309\n",
      "{'area_code': '210',\n",
      " 'calling_code': None,\n",
      " 'first_three': '867',\n",
      " 'last_four': '5309'}\n",
      "---\n",
      "+1 210.867.5309\n",
      "{'area_code': '210',\n",
      " 'calling_code': '+1',\n",
      " 'first_three': '867',\n",
      " 'last_four': '5309'}\n",
      "---\n",
      "867-5309\n",
      "{'area_code': None,\n",
      " 'calling_code': None,\n",
      " 'first_three': '867',\n",
      " 'last_four': '5309'}\n",
      "---\n",
      "210-867-5309\n",
      "{'area_code': '210',\n",
      " 'calling_code': None,\n",
      " 'first_three': '867',\n",
      " 'last_four': '5309'}\n",
      "---\n",
      "WHOOPDEDOO\n"
     ]
    },
    {
     "ename": "AttributeError",
     "evalue": "'NoneType' object has no attribute 'groupdict'",
     "output_type": "error",
     "traceback": [
      "\u001b[0;31m---------------------------------------------------------------------------\u001b[0m",
      "\u001b[0;31mAttributeError\u001b[0m                            Traceback (most recent call last)",
      "\u001b[0;32m<ipython-input-24-88c1e8123bda>\u001b[0m in \u001b[0;36m<module>\u001b[0;34m\u001b[0m\n\u001b[1;32m     15\u001b[0m \u001b[0;32mfor\u001b[0m \u001b[0mnumber\u001b[0m \u001b[0;32min\u001b[0m \u001b[0mnum_list\u001b[0m\u001b[0;34m:\u001b[0m\u001b[0;34m\u001b[0m\u001b[0;34m\u001b[0m\u001b[0m\n\u001b[1;32m     16\u001b[0m     \u001b[0mprint\u001b[0m\u001b[0;34m(\u001b[0m\u001b[0mnumber\u001b[0m\u001b[0;34m)\u001b[0m\u001b[0;34m\u001b[0m\u001b[0;34m\u001b[0m\u001b[0m\n\u001b[0;32m---> 17\u001b[0;31m     \u001b[0mpprint\u001b[0m\u001b[0;34m(\u001b[0m\u001b[0mregexp\u001b[0m\u001b[0;34m.\u001b[0m\u001b[0mmatch\u001b[0m\u001b[0;34m(\u001b[0m\u001b[0mnumber\u001b[0m\u001b[0;34m)\u001b[0m\u001b[0;34m.\u001b[0m\u001b[0mgroupdict\u001b[0m\u001b[0;34m(\u001b[0m\u001b[0;34m)\u001b[0m\u001b[0;34m)\u001b[0m\u001b[0;34m\u001b[0m\u001b[0;34m\u001b[0m\u001b[0m\n\u001b[0m\u001b[1;32m     18\u001b[0m     \u001b[0mprint\u001b[0m\u001b[0;34m(\u001b[0m\u001b[0;34m'---'\u001b[0m\u001b[0;34m)\u001b[0m\u001b[0;34m\u001b[0m\u001b[0;34m\u001b[0m\u001b[0m\n",
      "\u001b[0;31mAttributeError\u001b[0m: 'NoneType' object has no attribute 'groupdict'"
     ]
    }
   ],
   "source": [
    "from pprint import pprint\n",
    "\n",
    "regexp = re.compile(r'''\n",
    "^\n",
    "(?P<calling_code>\\+\\d+)?\n",
    "[^\\d]*?\n",
    "(?P<area_code>\\d{3})?\n",
    "[^\\d]*?\n",
    "(?P<first_three>\\d{3})\n",
    "[^\\d]*?\n",
    "(?P<last_four>\\d{4})\n",
    "$\n",
    "''', re.VERBOSE)\n",
    "\n",
    "for number in num_list:\n",
    "    print(number)\n",
    "    pprint(regexp.match(number).groupdict())\n",
    "    print('---')"
   ]
  },
  {
   "cell_type": "markdown",
   "metadata": {},
   "source": [
    "4. Use regular expressions to convert the dates below to the standardized year-month-day format.\n",
    "02/04/19, 02/05/19, 02/06/19, 02/07/19, 02/08/19, 02/09/19, 02/10/19"
   ]
  },
  {
   "cell_type": "code",
   "execution_count": 9,
   "metadata": {},
   "outputs": [],
   "source": [
    "date_list = ['02/04/19', '02/05/19', '02/06/19', '02/07/19', '02/08/19', '02/09/19', '02/10/19']"
   ]
  },
  {
   "cell_type": "code",
   "execution_count": 10,
   "metadata": {},
   "outputs": [],
   "source": [
    "def date_formatter(some_date):\n",
    "    '''takes a date and reformats it to be yyyy/mm/dd format'''\n",
    "    date_re = r'(\\d+)\\/?'\n",
    "    date = re.findall(date_re, some_date)\n",
    "    if int(date[2]) <= 19:\n",
    "        date[2] = '20' + date[2]\n",
    "    else:\n",
    "        date[2] = '19' + date[2]\n",
    "    new_date = date[2] + '-' + date[0] + '-' + date[1]\n",
    "    return new_date"
   ]
  },
  {
   "cell_type": "code",
   "execution_count": 11,
   "metadata": {},
   "outputs": [
    {
     "name": "stdout",
     "output_type": "stream",
     "text": [
      "02/04/19\n",
      "2019-02-04\n",
      "02/05/19\n",
      "2019-02-05\n",
      "02/06/19\n",
      "2019-02-06\n",
      "02/07/19\n",
      "2019-02-07\n",
      "02/08/19\n",
      "2019-02-08\n",
      "02/09/19\n",
      "2019-02-09\n",
      "02/10/19\n",
      "2019-02-10\n"
     ]
    }
   ],
   "source": [
    "for date in date_list:\n",
    "    print(date)\n",
    "    print(date_formatter(date))"
   ]
  },
  {
   "cell_type": "markdown",
   "metadata": {},
   "source": [
    "5. Write a regex to extract the various parts of these logfile lines:\n",
    "\n",
    "\n",
    "GET /api/v1/sales?page=86 [16/Apr/2019:193452+0000] HTTP/1.1 {200} 510348 \"python-requests/2.21.0\" 97.105.19.58 \n",
    "POST /users_accounts/file-upload [16/Apr/2019:193452+0000] HTTP/1.1 {201} 42 \"User-Agent: Mozilla/5.0 (X11; Fedora; Fedora; Linux x86_64) AppleWebKit/537.36 (KHTML, like Gecko) Chrome/73.0.3683.86 Safari/537.36\" 97.105.19.58 \n",
    "GET /api/v1/items?page=3 [16/Apr/2019:193453+0000] HTTP/1.1 {429} 3561 \"python-requests/2.21.0\" 97.105.19.58"
   ]
  },
  {
   "cell_type": "code",
   "execution_count": 27,
   "metadata": {},
   "outputs": [],
   "source": [
    "log_lines = '''\n",
    "GET /api/v1/sales?page=86 [16/Apr/2019:193452+0000] HTTP/1.1 {200} 510348 \"python-requests/2.21.0\" 97.105.19.58 \n",
    "POST /users_accounts/file-upload [16/Apr/2019:193452+0000] HTTP/1.1 {201} 42 \"User-Agent: Mozilla/5.0 (X11; Fedora; Fedora; Linux x86_64) AppleWebKit/537.36 (KHTML, like Gecko) Chrome/73.0.3683.86 Safari/537.36\" 97.105.19.58 \n",
    "GET /api/v1/items?page=3 [16/Apr/2019:193453+0000] HTTP/1.1 {429} 3561 \"python-requests/2.21.0\" 97.105.19.58\n",
    "'''.strip().split('\\n')\n",
    "\n",
    "regex = re.compile(r'''\n",
    "(?P<method>POST|GET)\n",
    "\\s*\n",
    "(?P<path>(?:[/\\w-]+))\n",
    "(?:\\?(?P<query_string>.*?)\\s)?\n",
    "\\s*\\[\n",
    "(?P<day>\\d+)/(?P<month>\\w+)/(?P<year>\\d+):\n",
    "(?P<hour>\\d{2})(?P<minute>\\d{2})(?P<second>\\d{2})\n",
    "(?P<timezone>\\+\\d{4})\n",
    "\\]\\s+\n",
    "(?P<protocol>HTTPS?/\\d\\.\\d)\n",
    "\\s+\n",
    "\\{(?P<status>\\d+)\\}\n",
    "\\s+\n",
    "(?P<bytes_sent>\\d+)\n",
    "\\s+\n",
    "\"(?P<user_agent>.*)\"\n",
    "\\s+\n",
    "(?P<ip>\\d{1,3}\\.\\d{1,3}\\.\\d{1,3}\\.\\d{1,3})\n",
    "''', re.VERBOSE)"
   ]
  },
  {
   "cell_type": "code",
   "execution_count": 28,
   "metadata": {},
   "outputs": [
    {
     "name": "stdout",
     "output_type": "stream",
     "text": [
      "{'bytes_sent': '510348',\n",
      " 'day': '16',\n",
      " 'hour': '19',\n",
      " 'ip': '97.105.19.58',\n",
      " 'method': 'GET',\n",
      " 'minute': '34',\n",
      " 'month': 'Apr',\n",
      " 'path': '/api/v1/sales',\n",
      " 'protocol': 'HTTP/1.1',\n",
      " 'query_string': 'page=86',\n",
      " 'second': '52',\n",
      " 'status': '200',\n",
      " 'timezone': '+0000',\n",
      " 'user_agent': 'python-requests/2.21.0',\n",
      " 'year': '2019'}\n",
      "{'bytes_sent': '42',\n",
      " 'day': '16',\n",
      " 'hour': '19',\n",
      " 'ip': '97.105.19.58',\n",
      " 'method': 'POST',\n",
      " 'minute': '34',\n",
      " 'month': 'Apr',\n",
      " 'path': '/users_accounts/file-upload',\n",
      " 'protocol': 'HTTP/1.1',\n",
      " 'query_string': None,\n",
      " 'second': '52',\n",
      " 'status': '201',\n",
      " 'timezone': '+0000',\n",
      " 'user_agent': 'User-Agent: Mozilla/5.0 (X11; Fedora; Fedora; Linux x86_64) '\n",
      "               'AppleWebKit/537.36 (KHTML, like Gecko) Chrome/73.0.3683.86 '\n",
      "               'Safari/537.36',\n",
      " 'year': '2019'}\n",
      "{'bytes_sent': '3561',\n",
      " 'day': '16',\n",
      " 'hour': '19',\n",
      " 'ip': '97.105.19.58',\n",
      " 'method': 'GET',\n",
      " 'minute': '34',\n",
      " 'month': 'Apr',\n",
      " 'path': '/api/v1/items',\n",
      " 'protocol': 'HTTP/1.1',\n",
      " 'query_string': 'page=3',\n",
      " 'second': '53',\n",
      " 'status': '429',\n",
      " 'timezone': '+0000',\n",
      " 'user_agent': 'python-requests/2.21.0',\n",
      " 'year': '2019'}\n"
     ]
    }
   ],
   "source": [
    "for line in log_lines:\n",
    "    pprint(regex.match(line).groupdict())"
   ]
  },
  {
   "cell_type": "markdown",
   "metadata": {},
   "source": [
    "6. You can find a list of words on your mac at /usr/share/dict/words. Use this file to answer the following questions:\n",
    "\n",
    "How many words have at least 3 vowels?\n",
    "How many words have at least 3 vowels in a row?\n",
    "How many words have at least 4 consonants in a row?\n",
    "How many words start and end with the same letter?\n",
    "How many words start and end with a vowel?\n",
    "How many words contain the same letter 3 times in a row?\n",
    "What other interesting patterns in words can you find?"
   ]
  },
  {
   "cell_type": "code",
   "execution_count": 29,
   "metadata": {},
   "outputs": [
    {
     "data": {
      "text/plain": [
       "55184"
      ]
     },
     "execution_count": 29,
     "metadata": {},
     "output_type": "execute_result"
    }
   ],
   "source": [
    "with open('/usr/share/dict/words') as f:\n",
    "    words = f.read()\n",
    "\n",
    "# How many words have at least 3 vowels?\n",
    "len(re.findall(r'^.*[aeiou].*[aeiou].*[aeiou]$', words, re.MULTILINE))"
   ]
  },
  {
   "cell_type": "code",
   "execution_count": 30,
   "metadata": {},
   "outputs": [
    {
     "data": {
      "text/plain": [
       "6156"
      ]
     },
     "execution_count": 30,
     "metadata": {},
     "output_type": "execute_result"
    }
   ],
   "source": [
    "# How many words have at least 3 vowels in a row?\n",
    "len(re.findall(r'^.*[aeiou]{3,}.*$', words, re.MULTILINE))"
   ]
  },
  {
   "cell_type": "code",
   "execution_count": 31,
   "metadata": {},
   "outputs": [
    {
     "data": {
      "text/plain": [
       "62922"
      ]
     },
     "execution_count": 31,
     "metadata": {},
     "output_type": "execute_result"
    }
   ],
   "source": [
    "\n",
    "# How many words have at least 4 consonants in a row?\n",
    "len(re.findall(r'^.*[^aeiou]{4,}.*$', words, re.MULTILINE))"
   ]
  },
  {
   "cell_type": "code",
   "execution_count": 32,
   "metadata": {},
   "outputs": [
    {
     "data": {
      "text/plain": [
       "9917"
      ]
     },
     "execution_count": 32,
     "metadata": {},
     "output_type": "execute_result"
    }
   ],
   "source": [
    "# How many words start and end with the same letter?\n",
    "len(re.findall(r'(^(.).*\\2$)', words, re.MULTILINE))"
   ]
  },
  {
   "cell_type": "code",
   "execution_count": 33,
   "metadata": {},
   "outputs": [
    {
     "data": {
      "text/plain": [
       "12351"
      ]
     },
     "execution_count": 33,
     "metadata": {},
     "output_type": "execute_result"
    }
   ],
   "source": [
    "# How many words start and end with a vowel?\n",
    "len(re.findall(r'(^[aeiou].*[aeiou]$)', words, re.MULTILINE))"
   ]
  },
  {
   "cell_type": "code",
   "execution_count": 34,
   "metadata": {},
   "outputs": [
    {
     "data": {
      "text/plain": [
       "7"
      ]
     },
     "execution_count": 34,
     "metadata": {},
     "output_type": "execute_result"
    }
   ],
   "source": [
    "# How many words contain the same letter 3 times in a row?\n",
    "len(re.findall(r'(^.*(.)\\2{2}.*$)', words, re.MULTILINE))"
   ]
  },
  {
   "cell_type": "code",
   "execution_count": null,
   "metadata": {},
   "outputs": [],
   "source": []
  }
 ],
 "metadata": {
  "kernelspec": {
   "display_name": "Python 3",
   "language": "python",
   "name": "python3"
  },
  "language_info": {
   "codemirror_mode": {
    "name": "ipython",
    "version": 3
   },
   "file_extension": ".py",
   "mimetype": "text/x-python",
   "name": "python",
   "nbconvert_exporter": "python",
   "pygments_lexer": "ipython3",
   "version": "3.7.1"
  }
 },
 "nbformat": 4,
 "nbformat_minor": 2
}
