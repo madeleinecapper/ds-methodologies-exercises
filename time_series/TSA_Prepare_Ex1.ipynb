{
 "cells": [
  {
   "cell_type": "markdown",
   "metadata": {},
   "source": [
    "Write a function to convert a date to adatetime data type.\n",
    "\n",
    "Write a function to change a datetime to UTC.\n",
    "\n",
    "Write a function to parse a date column into 6 additional columns (while keeping the original date): year, quarter, month, day of month, day of week, weekend vs. weekday\n",
    "\n",
    "Create a new dataframe that aggregates the sales (sum and median) by day of week.\n",
    "\n",
    "Explore the pandas DataFrame.diff() function. Create a new column that is the result of the current sales - the previous days sales.\n",
    "\n",
    "Write a function to set the index to be the datetime variable."
   ]
  },
  {
   "cell_type": "code",
   "execution_count": 183,
   "metadata": {},
   "outputs": [],
   "source": [
    "# environment set-up:\n",
    "\n",
    "import pandas as pd\n",
    "import requests\n",
    "import acquire\n",
    "import summarize\n",
    "\n",
    "#acquire: \n",
    "df = acquire.get_all_stuff()"
   ]
  },
  {
   "cell_type": "code",
   "execution_count": 184,
   "metadata": {},
   "outputs": [
    {
     "name": "stdout",
     "output_type": "stream",
     "text": [
      "<class 'pandas.core.frame.DataFrame'>\n",
      "Int64Index: 913000 entries, 0 to 912999\n",
      "Data columns (total 14 columns):\n",
      "item_id          913000 non-null int64\n",
      "sale_amount      913000 non-null float64\n",
      "sale_date        913000 non-null object\n",
      "sale_id          913000 non-null int64\n",
      "store_id         913000 non-null int64\n",
      "store_address    913000 non-null object\n",
      "store_city       913000 non-null object\n",
      "store_state      913000 non-null object\n",
      "store_zipcode    913000 non-null int64\n",
      "item_brand       913000 non-null object\n",
      "item_name        913000 non-null object\n",
      "item_price       913000 non-null float64\n",
      "item_upc12       913000 non-null int64\n",
      "item_upc14       913000 non-null int64\n",
      "dtypes: float64(2), int64(6), object(6)\n",
      "memory usage: 104.5+ MB\n"
     ]
    }
   ],
   "source": [
    "df.info()\n",
    "#Walkthrough method: \n",
    "\n",
    "# datetime_format = '%a, %d %b %Y %H:%M:%S %Z'\n",
    "# pd.to_datetime(df.sale_date.head(), format=datetime_format, utc=True)"
   ]
  },
  {
   "cell_type": "code",
   "execution_count": 173,
   "metadata": {},
   "outputs": [],
   "source": [
    "# dfwlkthrgh.set_index('sale_date', inplace=True)\n",
    "# dfwlkthrgh.tz_localize('utc')"
   ]
  },
  {
   "cell_type": "markdown",
   "metadata": {},
   "source": [
    "  Write a function to convert a date to a datetime data type."
   ]
  },
  {
   "cell_type": "markdown",
   "metadata": {},
   "source": [
    "Write a function to parse a date column into 6 additional columns (while keeping the original date): year, quarter, month, day of month, day of week, weekend vs. weekday"
   ]
  },
  {
   "cell_type": "code",
   "execution_count": 174,
   "metadata": {},
   "outputs": [],
   "source": [
    "def to_datetime_utc(df):\n",
    "    s = df['sale_date'].apply(lambda x: x.split(','))\n",
    "    df['weekday'] = s.apply(lambda x: x[0])\n",
    "    df['sale_date'] = s.apply(lambda x: x[1])\n",
    "    df['sale_date'] = pd.to_datetime(df['sale_date'], infer_datetime_format=True, utc=True)\n",
    "    return df"
   ]
  },
  {
   "cell_type": "code",
   "execution_count": 175,
   "metadata": {},
   "outputs": [],
   "source": [
    "def make_cols(df):\n",
    "    df['year'] = df.sale_date.dt.year\n",
    "    df['quarter'] = df.sale_date.dt.quarter\n",
    "    df['month'] = df.sale_date.dt.month\n",
    "    df['day_of_month'] = df.sale_date.dt.day\n",
    "    df['is_weekday'] = df.sale_date.dt.weekday.apply(lambda x: 1 if x >= 5 else 0)\n",
    "    return df"
   ]
  },
  {
   "cell_type": "code",
   "execution_count": 178,
   "metadata": {},
   "outputs": [
    {
     "data": {
      "text/plain": [
       "0    652000\n",
       "1    261000\n",
       "Name: is_weekday, dtype: int64"
      ]
     },
     "execution_count": 178,
     "metadata": {},
     "output_type": "execute_result"
    }
   ],
   "source": [
    "df.is_weekday.value_counts(dropna=False)"
   ]
  },
  {
   "cell_type": "markdown",
   "metadata": {},
   "source": [
    "### Create a new dataframe that aggregates the sales (sum and median) by day of week."
   ]
  },
  {
   "cell_type": "code",
   "execution_count": null,
   "metadata": {},
   "outputs": [],
   "source": [
    "def make_new_sales_amounts(df):\n",
    "    df['sales_total'] = df.sale_amount * df.item_price\n",
    "    df.rename(columns={'sale_amount': 'quantity'}, inplace=True)\n",
    "    return df\n",
    "df = make_new_sales_amounts(df)\n",
    "df.head()"
   ]
  },
  {
   "cell_type": "code",
   "execution_count": 182,
   "metadata": {},
   "outputs": [
    {
     "name": "stdout",
     "output_type": "stream",
     "text": [
      "          sales_total\n",
      "weekday              \n",
      "Fri      3.868773e+07\n",
      "Mon      2.896118e+07\n",
      "Sat      4.116177e+07\n",
      "Sun      4.359486e+07\n",
      "Thu      3.628727e+07\n",
      "Tue      3.383954e+07\n",
      "Wed      3.392832e+07\n"
     ]
    }
   ],
   "source": [
    "sum_by_weekday = df[['weekday', 'sales_total']].groupby(df.weekday).sum()\n",
    "# mean_by_weekday = df[['weekday', 'sales_total']].groupby(df.weekday).mean()\n",
    "print(sum_by_weekday)\n",
    "# print(mean_by_weekday)"
   ]
  },
  {
   "cell_type": "markdown",
   "metadata": {},
   "source": [
    "### Explore the pandas DataFrame.diff() function. Create a new column that is the result of the current sales - the previous days sales."
   ]
  },
  {
   "cell_type": "code",
   "execution_count": 120,
   "metadata": {},
   "outputs": [
    {
     "data": {
      "text/plain": [
       "1826"
      ]
     },
     "execution_count": 120,
     "metadata": {},
     "output_type": "execute_result"
    }
   ],
   "source": [
    "df.sale_date.nunique()"
   ]
  },
  {
   "cell_type": "code",
   "execution_count": 129,
   "metadata": {},
   "outputs": [],
   "source": [
    "df_sum_date = df.groupby(df.sale_date, as_index=False).sum()"
   ]
  },
  {
   "cell_type": "code",
   "execution_count": 130,
   "metadata": {},
   "outputs": [],
   "source": [
    "df_sum_date['prev_day_diff'] = df_sum_date['sales_total'].diff()"
   ]
  },
  {
   "cell_type": "code",
   "execution_count": 133,
   "metadata": {},
   "outputs": [
    {
     "data": {
      "text/html": [
       "<div>\n",
       "<style scoped>\n",
       "    .dataframe tbody tr th:only-of-type {\n",
       "        vertical-align: middle;\n",
       "    }\n",
       "\n",
       "    .dataframe tbody tr th {\n",
       "        vertical-align: top;\n",
       "    }\n",
       "\n",
       "    .dataframe thead th {\n",
       "        text-align: right;\n",
       "    }\n",
       "</style>\n",
       "<table border=\"1\" class=\"dataframe\">\n",
       "  <thead>\n",
       "    <tr style=\"text-align: right;\">\n",
       "      <th></th>\n",
       "      <th>sale_date</th>\n",
       "      <th>sale_amount</th>\n",
       "      <th>prev_day_diff</th>\n",
       "    </tr>\n",
       "  </thead>\n",
       "  <tbody>\n",
       "    <tr>\n",
       "      <th>0</th>\n",
       "      <td>2013-01-01 00:00:00+00:00</td>\n",
       "      <td>13696.0</td>\n",
       "      <td>NaN</td>\n",
       "    </tr>\n",
       "    <tr>\n",
       "      <th>1</th>\n",
       "      <td>2013-01-02 00:00:00+00:00</td>\n",
       "      <td>13678.0</td>\n",
       "      <td>-18.0</td>\n",
       "    </tr>\n",
       "    <tr>\n",
       "      <th>2</th>\n",
       "      <td>2013-01-03 00:00:00+00:00</td>\n",
       "      <td>14488.0</td>\n",
       "      <td>810.0</td>\n",
       "    </tr>\n",
       "    <tr>\n",
       "      <th>3</th>\n",
       "      <td>2013-01-04 00:00:00+00:00</td>\n",
       "      <td>15677.0</td>\n",
       "      <td>1189.0</td>\n",
       "    </tr>\n",
       "    <tr>\n",
       "      <th>4</th>\n",
       "      <td>2013-01-05 00:00:00+00:00</td>\n",
       "      <td>16237.0</td>\n",
       "      <td>560.0</td>\n",
       "    </tr>\n",
       "    <tr>\n",
       "      <th>5</th>\n",
       "      <td>2013-01-06 00:00:00+00:00</td>\n",
       "      <td>17291.0</td>\n",
       "      <td>1054.0</td>\n",
       "    </tr>\n",
       "    <tr>\n",
       "      <th>6</th>\n",
       "      <td>2013-01-07 00:00:00+00:00</td>\n",
       "      <td>11769.0</td>\n",
       "      <td>-5522.0</td>\n",
       "    </tr>\n",
       "    <tr>\n",
       "      <th>7</th>\n",
       "      <td>2013-01-08 00:00:00+00:00</td>\n",
       "      <td>13560.0</td>\n",
       "      <td>1791.0</td>\n",
       "    </tr>\n",
       "    <tr>\n",
       "      <th>8</th>\n",
       "      <td>2013-01-09 00:00:00+00:00</td>\n",
       "      <td>13878.0</td>\n",
       "      <td>318.0</td>\n",
       "    </tr>\n",
       "    <tr>\n",
       "      <th>9</th>\n",
       "      <td>2013-01-10 00:00:00+00:00</td>\n",
       "      <td>14642.0</td>\n",
       "      <td>764.0</td>\n",
       "    </tr>\n",
       "  </tbody>\n",
       "</table>\n",
       "</div>"
      ],
      "text/plain": [
       "                  sale_date  sale_amount  prev_day_diff\n",
       "0 2013-01-01 00:00:00+00:00      13696.0            NaN\n",
       "1 2013-01-02 00:00:00+00:00      13678.0          -18.0\n",
       "2 2013-01-03 00:00:00+00:00      14488.0          810.0\n",
       "3 2013-01-04 00:00:00+00:00      15677.0         1189.0\n",
       "4 2013-01-05 00:00:00+00:00      16237.0          560.0\n",
       "5 2013-01-06 00:00:00+00:00      17291.0         1054.0\n",
       "6 2013-01-07 00:00:00+00:00      11769.0        -5522.0\n",
       "7 2013-01-08 00:00:00+00:00      13560.0         1791.0\n",
       "8 2013-01-09 00:00:00+00:00      13878.0          318.0\n",
       "9 2013-01-10 00:00:00+00:00      14642.0          764.0"
      ]
     },
     "execution_count": 133,
     "metadata": {},
     "output_type": "execute_result"
    }
   ],
   "source": [
    "df_sum_date[['sale_date', 'sales_total', 'prev_day_diff']].head(10)"
   ]
  },
  {
   "cell_type": "markdown",
   "metadata": {},
   "source": [
    "### Write a function to set the index to be the datetime variable."
   ]
  },
  {
   "cell_type": "code",
   "execution_count": 135,
   "metadata": {},
   "outputs": [],
   "source": [
    "def re_index_by_time(df):\n",
    "    df.set_index('sale_date', inplace=True)"
   ]
  },
  {
   "cell_type": "code",
   "execution_count": null,
   "metadata": {},
   "outputs": [],
   "source": []
  }
 ],
 "metadata": {
  "kernelspec": {
   "display_name": "Python 3",
   "language": "python",
   "name": "python3"
  },
  "language_info": {
   "codemirror_mode": {
    "name": "ipython",
    "version": 3
   },
   "file_extension": ".py",
   "mimetype": "text/x-python",
   "name": "python",
   "nbconvert_exporter": "python",
   "pygments_lexer": "ipython3",
   "version": "3.7.1"
  }
 },
 "nbformat": 4,
 "nbformat_minor": 2
}
