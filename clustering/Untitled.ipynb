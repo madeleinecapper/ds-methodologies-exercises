{
 "cells": [
  {
   "cell_type": "code",
   "execution_count": 1,
   "metadata": {},
   "outputs": [],
   "source": [
    "import numpy as np\n",
    "import pandas as pd\n",
    "\n",
    "from acquire_mall import *\n",
    "from prepare_mall import *"
   ]
  },
  {
   "cell_type": "code",
   "execution_count": 2,
   "metadata": {},
   "outputs": [],
   "source": [
    "df = get_mall_data()"
   ]
  },
  {
   "cell_type": "code",
   "execution_count": 4,
   "metadata": {},
   "outputs": [],
   "source": [
    "df = prep_mall_data(df)"
   ]
  },
  {
   "cell_type": "code",
   "execution_count": 5,
   "metadata": {},
   "outputs": [
    {
     "data": {
      "text/html": [
       "<div>\n",
       "<style scoped>\n",
       "    .dataframe tbody tr th:only-of-type {\n",
       "        vertical-align: middle;\n",
       "    }\n",
       "\n",
       "    .dataframe tbody tr th {\n",
       "        vertical-align: top;\n",
       "    }\n",
       "\n",
       "    .dataframe thead th {\n",
       "        text-align: right;\n",
       "    }\n",
       "</style>\n",
       "<table border=\"1\" class=\"dataframe\">\n",
       "  <thead>\n",
       "    <tr style=\"text-align: right;\">\n",
       "      <th></th>\n",
       "      <th>customer_id</th>\n",
       "      <th>gender</th>\n",
       "      <th>age</th>\n",
       "      <th>annual_income</th>\n",
       "      <th>spending_score</th>\n",
       "      <th>gender_e</th>\n",
       "    </tr>\n",
       "  </thead>\n",
       "  <tbody>\n",
       "    <tr>\n",
       "      <th>0</th>\n",
       "      <td>1</td>\n",
       "      <td>Male</td>\n",
       "      <td>19</td>\n",
       "      <td>15</td>\n",
       "      <td>39</td>\n",
       "      <td>1</td>\n",
       "    </tr>\n",
       "    <tr>\n",
       "      <th>1</th>\n",
       "      <td>2</td>\n",
       "      <td>Male</td>\n",
       "      <td>21</td>\n",
       "      <td>15</td>\n",
       "      <td>81</td>\n",
       "      <td>1</td>\n",
       "    </tr>\n",
       "    <tr>\n",
       "      <th>2</th>\n",
       "      <td>3</td>\n",
       "      <td>Female</td>\n",
       "      <td>20</td>\n",
       "      <td>16</td>\n",
       "      <td>6</td>\n",
       "      <td>0</td>\n",
       "    </tr>\n",
       "    <tr>\n",
       "      <th>3</th>\n",
       "      <td>4</td>\n",
       "      <td>Female</td>\n",
       "      <td>23</td>\n",
       "      <td>16</td>\n",
       "      <td>77</td>\n",
       "      <td>0</td>\n",
       "    </tr>\n",
       "    <tr>\n",
       "      <th>4</th>\n",
       "      <td>5</td>\n",
       "      <td>Female</td>\n",
       "      <td>31</td>\n",
       "      <td>17</td>\n",
       "      <td>40</td>\n",
       "      <td>0</td>\n",
       "    </tr>\n",
       "  </tbody>\n",
       "</table>\n",
       "</div>"
      ],
      "text/plain": [
       "   customer_id  gender  age  annual_income  spending_score  gender_e\n",
       "0            1    Male   19             15              39         1\n",
       "1            2    Male   21             15              81         1\n",
       "2            3  Female   20             16               6         0\n",
       "3            4  Female   23             16              77         0\n",
       "4            5  Female   31             17              40         0"
      ]
     },
     "execution_count": 5,
     "metadata": {},
     "output_type": "execute_result"
    }
   ],
   "source": [
    "df.head()"
   ]
  },
  {
   "cell_type": "code",
   "execution_count": 7,
   "metadata": {},
   "outputs": [
    {
     "name": "stdout",
     "output_type": "stream",
     "text": [
      "   customer_id  gender  age  annual_income  spending_score  gender_e\n",
      "0            1    Male   19             15              39         1\n",
      "1            2    Male   21             15              81         1\n",
      "2            3  Female   20             16               6         0\n",
      "3            4  Female   23             16              77         0\n",
      "4            5  Female   31             17              40         0\n",
      "     customer_id  gender  age  annual_income  spending_score  gender_e\n",
      "193          194  Female   38            113              91         0\n",
      "194          195  Female   47            120              16         0\n",
      "195          196  Female   35            120              79         0\n",
      "196          197  Female   45            126              28         0\n",
      "197          198    Male   32            126              74         1\n",
      "(198, 6)\n",
      "       customer_id         age  annual_income  spending_score    gender_e\n",
      "count   198.000000  198.000000     198.000000      198.000000  198.000000\n",
      "mean     99.500000   38.929293      59.787879       50.196970    0.434343\n",
      "std      57.301832   14.016852      25.237259       25.746846    0.496927\n",
      "min       1.000000   18.000000      15.000000        1.000000    0.000000\n",
      "25%      50.250000   28.250000      40.500000       35.000000    0.000000\n",
      "50%      99.500000   36.000000      61.000000       50.000000    0.000000\n",
      "75%     148.750000   49.000000      77.750000       72.750000    1.000000\n",
      "max     198.000000   70.000000     126.000000       99.000000    1.000000\n",
      "<class 'pandas.core.frame.DataFrame'>\n",
      "Int64Index: 198 entries, 0 to 197\n",
      "Data columns (total 6 columns):\n",
      "customer_id       198 non-null int64\n",
      "gender            198 non-null object\n",
      "age               198 non-null int64\n",
      "annual_income     198 non-null int64\n",
      "spending_score    198 non-null int64\n",
      "gender_e          198 non-null int64\n",
      "dtypes: int64(5), object(1)\n",
      "memory usage: 10.8+ KB\n"
     ]
    }
   ],
   "source": [
    "peekatdata(df)"
   ]
  },
  {
   "cell_type": "code",
   "execution_count": null,
   "metadata": {},
   "outputs": [],
   "source": [
    "# from acquire_zillow import *\n",
    "# dfz = get_zillow()"
   ]
  },
  {
   "cell_type": "code",
   "execution_count": null,
   "metadata": {},
   "outputs": [],
   "source": [
    "# dfz.info()"
   ]
  },
  {
   "cell_type": "code",
   "execution_count": null,
   "metadata": {},
   "outputs": [],
   "source": [
    "# dfz.head()"
   ]
  },
  {
   "cell_type": "code",
   "execution_count": null,
   "metadata": {},
   "outputs": [],
   "source": [
    "# CREATE PERPARE MALL\n",
    "# detects any outliers\n",
    "# encodes all the categorical columns, and adds the encoded column (i.e. it doesn't remove the original column)\n",
    "# accepts the unprepared mall customers data frame and applies all the transformations above\n",
    "# Summarize\n",
    "# Write or use a previous function you have written that summarizes the data you have just read into a \n",
    "#dataframe in the ways we have discussed in previous modules (sample view, datatypes, value counts, \n",
    "#summary stats, ...)\n",
    "# Use this function from a notebook to get an overview of your data.\n",
    "# Use this function to help when you are working with the zillow data as well."
   ]
  },
  {
   "cell_type": "code",
   "execution_count": null,
   "metadata": {},
   "outputs": [],
   "source": [
    "# df.head()"
   ]
  },
  {
   "cell_type": "code",
   "execution_count": null,
   "metadata": {},
   "outputs": [],
   "source": [
    "# desc = df.describe()"
   ]
  },
  {
   "cell_type": "code",
   "execution_count": null,
   "metadata": {},
   "outputs": [],
   "source": [
    "# from prepare_mall import peekatdata"
   ]
  },
  {
   "cell_type": "code",
   "execution_count": null,
   "metadata": {},
   "outputs": [],
   "source": [
    "# peekatdata(df)"
   ]
  },
  {
   "cell_type": "code",
   "execution_count": null,
   "metadata": {},
   "outputs": [],
   "source": [
    "# q1 = float(df[['annual_income']].quantile(.25))\n",
    "# q3 = float(df[['annual_income']].quantile(.75))"
   ]
  },
  {
   "cell_type": "code",
   "execution_count": null,
   "metadata": {},
   "outputs": [],
   "source": [
    "# iqr = q3 - q1\n",
    "# iqr = float(iqr)"
   ]
  },
  {
   "cell_type": "code",
   "execution_count": null,
   "metadata": {},
   "outputs": [],
   "source": [
    "# def remove_numerical_outliers(df):\n",
    "#     for col in df:\n",
    "#         if np.issubdtype(df[col].dtype, np.number):\n",
    "#             q1 = float(df[[col]].quantile(.25))\n",
    "#             q3 = float(df[[col]].quantile(.75))\n",
    "#             iqr = q3 - q1\n",
    "#             df = df[~(df[col] > (q3 + 1.5 * iqr)) & ~(df[col] < (q1 - 1.5 * iqr))]\n",
    "#     return df"
   ]
  },
  {
   "cell_type": "code",
   "execution_count": null,
   "metadata": {},
   "outputs": [],
   "source": [
    "# import numpy as np\n",
    "# df = remove_numerical_outliers(df)"
   ]
  },
  {
   "cell_type": "code",
   "execution_count": null,
   "metadata": {},
   "outputs": [],
   "source": [
    "# df.info()"
   ]
  },
  {
   "cell_type": "code",
   "execution_count": null,
   "metadata": {},
   "outputs": [],
   "source": []
  },
  {
   "cell_type": "code",
   "execution_count": null,
   "metadata": {},
   "outputs": [],
   "source": []
  }
 ],
 "metadata": {
  "kernelspec": {
   "display_name": "Python 3",
   "language": "python",
   "name": "python3"
  },
  "language_info": {
   "codemirror_mode": {
    "name": "ipython",
    "version": 3
   },
   "file_extension": ".py",
   "mimetype": "text/x-python",
   "name": "python",
   "nbconvert_exporter": "python",
   "pygments_lexer": "ipython3",
   "version": "3.7.1"
  }
 },
 "nbformat": 4,
 "nbformat_minor": 2
}
